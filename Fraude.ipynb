{
 "cells": [
  {
   "cell_type": "code",
   "execution_count": null,
   "id": "e2eb29ae",
   "metadata": {},
   "outputs": [],
   "source": []
  },
  {
   "cell_type": "code",
   "execution_count": null,
   "id": "bc00482e",
   "metadata": {},
   "outputs": [],
   "source": []
  },
  {
   "cell_type": "code",
   "execution_count": 254,
   "id": "10dfa438",
   "metadata": {},
   "outputs": [],
   "source": [
    "# Importer les librairies à utiliser\n",
    "\n",
    "import pandas as pd\n",
    "import numpy as np\n",
    "import matplotlib.pyplot as plt\n",
    "import seaborn as sns\n",
    "from sklearn.preprocessing import LabelEncoder\n",
    "from sklearn.feature_selection import mutual_info_regression,SelectKBest\n",
    "from sklearn.model_selection import train_test_split\n",
    "from sklearn.metrics import mean_absolute_error,accuracy_score\n",
    "from sklearn.linear_model import LinearRegression\n",
    "from sklearn.ensemble import RandomForestRegressor,AdaBoostRegressor,GradientBoostingRegressor\n",
    "from sklearn.svm import SVR\n",
    "from sklearn.neighbors import KNeighborsRegressor\n",
    "\n",
    "from sklearn.metrics import mean_squared_error\n"
   ]
  },
  {
   "cell_type": "code",
   "execution_count": 4,
   "id": "6a8363ba",
   "metadata": {
    "scrolled": true
   },
   "outputs": [
    {
     "data": {
      "text/html": [
       "<div>\n",
       "<style scoped>\n",
       "    .dataframe tbody tr th:only-of-type {\n",
       "        vertical-align: middle;\n",
       "    }\n",
       "\n",
       "    .dataframe tbody tr th {\n",
       "        vertical-align: top;\n",
       "    }\n",
       "\n",
       "    .dataframe thead th {\n",
       "        text-align: right;\n",
       "    }\n",
       "</style>\n",
       "<table border=\"1\" class=\"dataframe\">\n",
       "  <thead>\n",
       "    <tr style=\"text-align: right;\">\n",
       "      <th></th>\n",
       "      <th>BCT_CODBUR</th>\n",
       "      <th>CTR_MATFIS</th>\n",
       "      <th>CTR_CATEGO_X</th>\n",
       "      <th>FJU_CODFJU</th>\n",
       "      <th>CTR_CESSAT</th>\n",
       "      <th>ACT_CODACT</th>\n",
       "      <th>CTR_OBLDIR</th>\n",
       "      <th>CTR_OBLACP</th>\n",
       "      <th>CTR_OBLRES</th>\n",
       "      <th>CTR_OBLFOP</th>\n",
       "      <th>...</th>\n",
       "      <th>target</th>\n",
       "      <th>FAC_MNTPRI_F</th>\n",
       "      <th>FAC_MFODEC_F</th>\n",
       "      <th>FAC_MNTDCO_F</th>\n",
       "      <th>FAC_MNTTVA_F</th>\n",
       "      <th>FAC_MNTPRI_C</th>\n",
       "      <th>FAC_MFODEC_C</th>\n",
       "      <th>FAC_MNTDCO_C</th>\n",
       "      <th>FAC_MNTTVA_C</th>\n",
       "      <th>id</th>\n",
       "    </tr>\n",
       "  </thead>\n",
       "  <tbody>\n",
       "    <tr>\n",
       "      <th>0</th>\n",
       "      <td>44</td>\n",
       "      <td>6210</td>\n",
       "      <td>C</td>\n",
       "      <td>99</td>\n",
       "      <td>0</td>\n",
       "      <td>3707</td>\n",
       "      <td>4</td>\n",
       "      <td>2</td>\n",
       "      <td>2</td>\n",
       "      <td>2</td>\n",
       "      <td>...</td>\n",
       "      <td>16.639203</td>\n",
       "      <td>NaN</td>\n",
       "      <td>NaN</td>\n",
       "      <td>NaN</td>\n",
       "      <td>NaN</td>\n",
       "      <td>NaN</td>\n",
       "      <td>NaN</td>\n",
       "      <td>NaN</td>\n",
       "      <td>NaN</td>\n",
       "      <td>train_id17437</td>\n",
       "    </tr>\n",
       "    <tr>\n",
       "      <th>1</th>\n",
       "      <td>401</td>\n",
       "      <td>14383</td>\n",
       "      <td>M</td>\n",
       "      <td>22</td>\n",
       "      <td>0</td>\n",
       "      <td>6105</td>\n",
       "      <td>4</td>\n",
       "      <td>2</td>\n",
       "      <td>2</td>\n",
       "      <td>2</td>\n",
       "      <td>...</td>\n",
       "      <td>17.827703</td>\n",
       "      <td>NaN</td>\n",
       "      <td>NaN</td>\n",
       "      <td>NaN</td>\n",
       "      <td>NaN</td>\n",
       "      <td>NaN</td>\n",
       "      <td>NaN</td>\n",
       "      <td>NaN</td>\n",
       "      <td>NaN</td>\n",
       "      <td>train_id5086</td>\n",
       "    </tr>\n",
       "    <tr>\n",
       "      <th>2</th>\n",
       "      <td>243</td>\n",
       "      <td>11555</td>\n",
       "      <td>M</td>\n",
       "      <td>23</td>\n",
       "      <td>0</td>\n",
       "      <td>5751</td>\n",
       "      <td>4</td>\n",
       "      <td>2</td>\n",
       "      <td>2</td>\n",
       "      <td>2</td>\n",
       "      <td>...</td>\n",
       "      <td>15.473503</td>\n",
       "      <td>25387000.0</td>\n",
       "      <td>0.0</td>\n",
       "      <td>0.0</td>\n",
       "      <td>4571280.0</td>\n",
       "      <td>NaN</td>\n",
       "      <td>NaN</td>\n",
       "      <td>NaN</td>\n",
       "      <td>NaN</td>\n",
       "      <td>train_id1443</td>\n",
       "    </tr>\n",
       "    <tr>\n",
       "      <th>3</th>\n",
       "      <td>72</td>\n",
       "      <td>6175</td>\n",
       "      <td>C</td>\n",
       "      <td>99</td>\n",
       "      <td>0</td>\n",
       "      <td>4402</td>\n",
       "      <td>4</td>\n",
       "      <td>2</td>\n",
       "      <td>2</td>\n",
       "      <td>2</td>\n",
       "      <td>...</td>\n",
       "      <td>0.000000</td>\n",
       "      <td>NaN</td>\n",
       "      <td>NaN</td>\n",
       "      <td>NaN</td>\n",
       "      <td>NaN</td>\n",
       "      <td>NaN</td>\n",
       "      <td>NaN</td>\n",
       "      <td>NaN</td>\n",
       "      <td>NaN</td>\n",
       "      <td>train_id15469</td>\n",
       "    </tr>\n",
       "    <tr>\n",
       "      <th>4</th>\n",
       "      <td>42</td>\n",
       "      <td>1417</td>\n",
       "      <td>M</td>\n",
       "      <td>23</td>\n",
       "      <td>0</td>\n",
       "      <td>6302</td>\n",
       "      <td>4</td>\n",
       "      <td>2</td>\n",
       "      <td>2</td>\n",
       "      <td>2</td>\n",
       "      <td>...</td>\n",
       "      <td>14.286244</td>\n",
       "      <td>NaN</td>\n",
       "      <td>NaN</td>\n",
       "      <td>NaN</td>\n",
       "      <td>NaN</td>\n",
       "      <td>NaN</td>\n",
       "      <td>NaN</td>\n",
       "      <td>NaN</td>\n",
       "      <td>NaN</td>\n",
       "      <td>train_id14368</td>\n",
       "    </tr>\n",
       "  </tbody>\n",
       "</table>\n",
       "<p>5 rows × 121 columns</p>\n",
       "</div>"
      ],
      "text/plain": [
       "   BCT_CODBUR  CTR_MATFIS CTR_CATEGO_X  FJU_CODFJU  CTR_CESSAT  ACT_CODACT  \\\n",
       "0          44        6210            C          99           0        3707   \n",
       "1         401       14383            M          22           0        6105   \n",
       "2         243       11555            M          23           0        5751   \n",
       "3          72        6175            C          99           0        4402   \n",
       "4          42        1417            M          23           0        6302   \n",
       "\n",
       "   CTR_OBLDIR  CTR_OBLACP  CTR_OBLRES  CTR_OBLFOP  ...     target  \\\n",
       "0           4           2           2           2  ...  16.639203   \n",
       "1           4           2           2           2  ...  17.827703   \n",
       "2           4           2           2           2  ...  15.473503   \n",
       "3           4           2           2           2  ...   0.000000   \n",
       "4           4           2           2           2  ...  14.286244   \n",
       "\n",
       "   FAC_MNTPRI_F  FAC_MFODEC_F  FAC_MNTDCO_F  FAC_MNTTVA_F  FAC_MNTPRI_C  \\\n",
       "0           NaN           NaN           NaN           NaN           NaN   \n",
       "1           NaN           NaN           NaN           NaN           NaN   \n",
       "2    25387000.0           0.0           0.0     4571280.0           NaN   \n",
       "3           NaN           NaN           NaN           NaN           NaN   \n",
       "4           NaN           NaN           NaN           NaN           NaN   \n",
       "\n",
       "   FAC_MFODEC_C  FAC_MNTDCO_C  FAC_MNTTVA_C             id  \n",
       "0           NaN           NaN           NaN  train_id17437  \n",
       "1           NaN           NaN           NaN   train_id5086  \n",
       "2           NaN           NaN           NaN   train_id1443  \n",
       "3           NaN           NaN           NaN  train_id15469  \n",
       "4           NaN           NaN           NaN  train_id14368  \n",
       "\n",
       "[5 rows x 121 columns]"
      ]
     },
     "execution_count": 4,
     "metadata": {},
     "output_type": "execute_result"
    }
   ],
   "source": [
    "data=pd.read_csv('train.csv')\n",
    "data.head()"
   ]
  },
  {
   "cell_type": "code",
   "execution_count": 5,
   "id": "ac4b5f1c",
   "metadata": {},
   "outputs": [
    {
     "name": "stdout",
     "output_type": "stream",
     "text": [
      "<class 'pandas.core.frame.DataFrame'>\n",
      "RangeIndex: 21295 entries, 0 to 21294\n",
      "Columns: 121 entries, BCT_CODBUR to id\n",
      "dtypes: float64(103), int64(16), object(2)\n",
      "memory usage: 19.7+ MB\n"
     ]
    }
   ],
   "source": [
    "# Informations sur la base de données\n",
    "data.info()"
   ]
  },
  {
   "cell_type": "code",
   "execution_count": 6,
   "id": "d3651f00",
   "metadata": {},
   "outputs": [
    {
     "data": {
      "text/html": [
       "<div>\n",
       "<style scoped>\n",
       "    .dataframe tbody tr th:only-of-type {\n",
       "        vertical-align: middle;\n",
       "    }\n",
       "\n",
       "    .dataframe tbody tr th {\n",
       "        vertical-align: top;\n",
       "    }\n",
       "\n",
       "    .dataframe thead th {\n",
       "        text-align: right;\n",
       "    }\n",
       "</style>\n",
       "<table border=\"1\" class=\"dataframe\">\n",
       "  <thead>\n",
       "    <tr style=\"text-align: right;\">\n",
       "      <th></th>\n",
       "      <th>BCT_CODBUR</th>\n",
       "      <th>CTR_MATFIS</th>\n",
       "      <th>FJU_CODFJU</th>\n",
       "      <th>CTR_CESSAT</th>\n",
       "      <th>ACT_CODACT</th>\n",
       "      <th>CTR_OBLDIR</th>\n",
       "      <th>CTR_OBLACP</th>\n",
       "      <th>CTR_OBLRES</th>\n",
       "      <th>CTR_OBLFOP</th>\n",
       "      <th>CTR_OBLTFP</th>\n",
       "      <th>...</th>\n",
       "      <th>RES_ANNIMP</th>\n",
       "      <th>target</th>\n",
       "      <th>FAC_MNTPRI_F</th>\n",
       "      <th>FAC_MFODEC_F</th>\n",
       "      <th>FAC_MNTDCO_F</th>\n",
       "      <th>FAC_MNTTVA_F</th>\n",
       "      <th>FAC_MNTPRI_C</th>\n",
       "      <th>FAC_MFODEC_C</th>\n",
       "      <th>FAC_MNTDCO_C</th>\n",
       "      <th>FAC_MNTTVA_C</th>\n",
       "    </tr>\n",
       "  </thead>\n",
       "  <tbody>\n",
       "    <tr>\n",
       "      <th>count</th>\n",
       "      <td>21295.000000</td>\n",
       "      <td>21295.000000</td>\n",
       "      <td>21295.000000</td>\n",
       "      <td>21295.000000</td>\n",
       "      <td>21295.000000</td>\n",
       "      <td>21295.000000</td>\n",
       "      <td>21295.000000</td>\n",
       "      <td>21295.000000</td>\n",
       "      <td>21295.000000</td>\n",
       "      <td>21295.000000</td>\n",
       "      <td>...</td>\n",
       "      <td>21295.000000</td>\n",
       "      <td>21295.000000</td>\n",
       "      <td>1.820000e+03</td>\n",
       "      <td>1.820000e+03</td>\n",
       "      <td>1.820000e+03</td>\n",
       "      <td>1.820000e+03</td>\n",
       "      <td>2.113000e+03</td>\n",
       "      <td>2.113000e+03</td>\n",
       "      <td>2.113000e+03</td>\n",
       "      <td>2.113000e+03</td>\n",
       "    </tr>\n",
       "    <tr>\n",
       "      <th>mean</th>\n",
       "      <td>214.935807</td>\n",
       "      <td>7797.448697</td>\n",
       "      <td>59.580888</td>\n",
       "      <td>0.048509</td>\n",
       "      <td>4821.595445</td>\n",
       "      <td>4.454191</td>\n",
       "      <td>1.959850</td>\n",
       "      <td>1.977319</td>\n",
       "      <td>1.928105</td>\n",
       "      <td>1.949096</td>\n",
       "      <td>...</td>\n",
       "      <td>2014.508852</td>\n",
       "      <td>11.780084</td>\n",
       "      <td>9.471275e+09</td>\n",
       "      <td>6.632605e+06</td>\n",
       "      <td>9.306873e+04</td>\n",
       "      <td>4.903870e+08</td>\n",
       "      <td>8.420356e+08</td>\n",
       "      <td>1.489097e+06</td>\n",
       "      <td>3.191820e+04</td>\n",
       "      <td>1.386915e+08</td>\n",
       "    </tr>\n",
       "    <tr>\n",
       "      <th>std</th>\n",
       "      <td>162.992837</td>\n",
       "      <td>4484.430937</td>\n",
       "      <td>38.542427</td>\n",
       "      <td>0.228200</td>\n",
       "      <td>1168.628546</td>\n",
       "      <td>1.205500</td>\n",
       "      <td>0.196316</td>\n",
       "      <td>0.154462</td>\n",
       "      <td>0.263361</td>\n",
       "      <td>0.221933</td>\n",
       "      <td>...</td>\n",
       "      <td>1.332947</td>\n",
       "      <td>7.085772</td>\n",
       "      <td>1.297572e+11</td>\n",
       "      <td>2.091579e+08</td>\n",
       "      <td>3.596381e+06</td>\n",
       "      <td>4.739676e+09</td>\n",
       "      <td>4.107717e+09</td>\n",
       "      <td>1.733094e+07</td>\n",
       "      <td>7.106121e+05</td>\n",
       "      <td>7.148914e+08</td>\n",
       "    </tr>\n",
       "    <tr>\n",
       "      <th>min</th>\n",
       "      <td>9.000000</td>\n",
       "      <td>1.000000</td>\n",
       "      <td>10.000000</td>\n",
       "      <td>0.000000</td>\n",
       "      <td>1002.000000</td>\n",
       "      <td>1.000000</td>\n",
       "      <td>1.000000</td>\n",
       "      <td>1.000000</td>\n",
       "      <td>1.000000</td>\n",
       "      <td>1.000000</td>\n",
       "      <td>...</td>\n",
       "      <td>2013.000000</td>\n",
       "      <td>0.000000</td>\n",
       "      <td>2.173000e+04</td>\n",
       "      <td>0.000000e+00</td>\n",
       "      <td>0.000000e+00</td>\n",
       "      <td>0.000000e+00</td>\n",
       "      <td>4.910000e+02</td>\n",
       "      <td>0.000000e+00</td>\n",
       "      <td>0.000000e+00</td>\n",
       "      <td>0.000000e+00</td>\n",
       "    </tr>\n",
       "    <tr>\n",
       "      <th>25%</th>\n",
       "      <td>92.000000</td>\n",
       "      <td>3944.000000</td>\n",
       "      <td>22.000000</td>\n",
       "      <td>0.000000</td>\n",
       "      <td>4203.000000</td>\n",
       "      <td>4.000000</td>\n",
       "      <td>2.000000</td>\n",
       "      <td>2.000000</td>\n",
       "      <td>2.000000</td>\n",
       "      <td>2.000000</td>\n",
       "      <td>...</td>\n",
       "      <td>2013.000000</td>\n",
       "      <td>0.000000</td>\n",
       "      <td>3.024577e+07</td>\n",
       "      <td>0.000000e+00</td>\n",
       "      <td>0.000000e+00</td>\n",
       "      <td>4.360140e+06</td>\n",
       "      <td>1.906574e+07</td>\n",
       "      <td>0.000000e+00</td>\n",
       "      <td>0.000000e+00</td>\n",
       "      <td>2.927028e+06</td>\n",
       "    </tr>\n",
       "    <tr>\n",
       "      <th>50%</th>\n",
       "      <td>182.000000</td>\n",
       "      <td>7817.000000</td>\n",
       "      <td>23.000000</td>\n",
       "      <td>0.000000</td>\n",
       "      <td>4417.000000</td>\n",
       "      <td>4.000000</td>\n",
       "      <td>2.000000</td>\n",
       "      <td>2.000000</td>\n",
       "      <td>2.000000</td>\n",
       "      <td>2.000000</td>\n",
       "      <td>...</td>\n",
       "      <td>2014.000000</td>\n",
       "      <td>14.981121</td>\n",
       "      <td>1.997162e+08</td>\n",
       "      <td>0.000000e+00</td>\n",
       "      <td>0.000000e+00</td>\n",
       "      <td>2.989651e+07</td>\n",
       "      <td>5.594731e+07</td>\n",
       "      <td>0.000000e+00</td>\n",
       "      <td>0.000000e+00</td>\n",
       "      <td>8.642968e+06</td>\n",
       "    </tr>\n",
       "    <tr>\n",
       "      <th>75%</th>\n",
       "      <td>254.000000</td>\n",
       "      <td>11695.500000</td>\n",
       "      <td>99.000000</td>\n",
       "      <td>0.000000</td>\n",
       "      <td>6102.000000</td>\n",
       "      <td>4.000000</td>\n",
       "      <td>2.000000</td>\n",
       "      <td>2.000000</td>\n",
       "      <td>2.000000</td>\n",
       "      <td>2.000000</td>\n",
       "      <td>...</td>\n",
       "      <td>2015.000000</td>\n",
       "      <td>16.625623</td>\n",
       "      <td>9.257110e+08</td>\n",
       "      <td>0.000000e+00</td>\n",
       "      <td>0.000000e+00</td>\n",
       "      <td>1.426512e+08</td>\n",
       "      <td>2.707424e+08</td>\n",
       "      <td>0.000000e+00</td>\n",
       "      <td>0.000000e+00</td>\n",
       "      <td>4.414594e+07</td>\n",
       "    </tr>\n",
       "    <tr>\n",
       "      <th>max</th>\n",
       "      <td>700.000000</td>\n",
       "      <td>15603.000000</td>\n",
       "      <td>99.000000</td>\n",
       "      <td>2.000000</td>\n",
       "      <td>8999.000000</td>\n",
       "      <td>9.000000</td>\n",
       "      <td>2.000000</td>\n",
       "      <td>5.000000</td>\n",
       "      <td>5.000000</td>\n",
       "      <td>3.000000</td>\n",
       "      <td>...</td>\n",
       "      <td>2018.000000</td>\n",
       "      <td>23.591334</td>\n",
       "      <td>3.414507e+12</td>\n",
       "      <td>8.897885e+09</td>\n",
       "      <td>1.529912e+08</td>\n",
       "      <td>1.608777e+11</td>\n",
       "      <td>8.351128e+10</td>\n",
       "      <td>4.044067e+08</td>\n",
       "      <td>2.614500e+07</td>\n",
       "      <td>1.352152e+10</td>\n",
       "    </tr>\n",
       "  </tbody>\n",
       "</table>\n",
       "<p>8 rows × 119 columns</p>\n",
       "</div>"
      ],
      "text/plain": [
       "         BCT_CODBUR    CTR_MATFIS    FJU_CODFJU    CTR_CESSAT    ACT_CODACT  \\\n",
       "count  21295.000000  21295.000000  21295.000000  21295.000000  21295.000000   \n",
       "mean     214.935807   7797.448697     59.580888      0.048509   4821.595445   \n",
       "std      162.992837   4484.430937     38.542427      0.228200   1168.628546   \n",
       "min        9.000000      1.000000     10.000000      0.000000   1002.000000   \n",
       "25%       92.000000   3944.000000     22.000000      0.000000   4203.000000   \n",
       "50%      182.000000   7817.000000     23.000000      0.000000   4417.000000   \n",
       "75%      254.000000  11695.500000     99.000000      0.000000   6102.000000   \n",
       "max      700.000000  15603.000000     99.000000      2.000000   8999.000000   \n",
       "\n",
       "         CTR_OBLDIR    CTR_OBLACP    CTR_OBLRES    CTR_OBLFOP    CTR_OBLTFP  \\\n",
       "count  21295.000000  21295.000000  21295.000000  21295.000000  21295.000000   \n",
       "mean       4.454191      1.959850      1.977319      1.928105      1.949096   \n",
       "std        1.205500      0.196316      0.154462      0.263361      0.221933   \n",
       "min        1.000000      1.000000      1.000000      1.000000      1.000000   \n",
       "25%        4.000000      2.000000      2.000000      2.000000      2.000000   \n",
       "50%        4.000000      2.000000      2.000000      2.000000      2.000000   \n",
       "75%        4.000000      2.000000      2.000000      2.000000      2.000000   \n",
       "max        9.000000      2.000000      5.000000      5.000000      3.000000   \n",
       "\n",
       "       ...    RES_ANNIMP        target  FAC_MNTPRI_F  FAC_MFODEC_F  \\\n",
       "count  ...  21295.000000  21295.000000  1.820000e+03  1.820000e+03   \n",
       "mean   ...   2014.508852     11.780084  9.471275e+09  6.632605e+06   \n",
       "std    ...      1.332947      7.085772  1.297572e+11  2.091579e+08   \n",
       "min    ...   2013.000000      0.000000  2.173000e+04  0.000000e+00   \n",
       "25%    ...   2013.000000      0.000000  3.024577e+07  0.000000e+00   \n",
       "50%    ...   2014.000000     14.981121  1.997162e+08  0.000000e+00   \n",
       "75%    ...   2015.000000     16.625623  9.257110e+08  0.000000e+00   \n",
       "max    ...   2018.000000     23.591334  3.414507e+12  8.897885e+09   \n",
       "\n",
       "       FAC_MNTDCO_F  FAC_MNTTVA_F  FAC_MNTPRI_C  FAC_MFODEC_C  FAC_MNTDCO_C  \\\n",
       "count  1.820000e+03  1.820000e+03  2.113000e+03  2.113000e+03  2.113000e+03   \n",
       "mean   9.306873e+04  4.903870e+08  8.420356e+08  1.489097e+06  3.191820e+04   \n",
       "std    3.596381e+06  4.739676e+09  4.107717e+09  1.733094e+07  7.106121e+05   \n",
       "min    0.000000e+00  0.000000e+00  4.910000e+02  0.000000e+00  0.000000e+00   \n",
       "25%    0.000000e+00  4.360140e+06  1.906574e+07  0.000000e+00  0.000000e+00   \n",
       "50%    0.000000e+00  2.989651e+07  5.594731e+07  0.000000e+00  0.000000e+00   \n",
       "75%    0.000000e+00  1.426512e+08  2.707424e+08  0.000000e+00  0.000000e+00   \n",
       "max    1.529912e+08  1.608777e+11  8.351128e+10  4.044067e+08  2.614500e+07   \n",
       "\n",
       "       FAC_MNTTVA_C  \n",
       "count  2.113000e+03  \n",
       "mean   1.386915e+08  \n",
       "std    7.148914e+08  \n",
       "min    0.000000e+00  \n",
       "25%    2.927028e+06  \n",
       "50%    8.642968e+06  \n",
       "75%    4.414594e+07  \n",
       "max    1.352152e+10  \n",
       "\n",
       "[8 rows x 119 columns]"
      ]
     },
     "execution_count": 6,
     "metadata": {},
     "output_type": "execute_result"
    }
   ],
   "source": [
    "data.describe()"
   ]
  },
  {
   "cell_type": "code",
   "execution_count": 7,
   "id": "81f88049",
   "metadata": {},
   "outputs": [
    {
     "data": {
      "text/plain": [
       "(21295, 121)"
      ]
     },
     "execution_count": 7,
     "metadata": {},
     "output_type": "execute_result"
    }
   ],
   "source": [
    "# Identifions le nombre de ligne et le nombre de colones de la base de données.\n",
    "data.shape\n",
    "#La base de données contient:\n",
    "#Lignes: 21295\n",
    "#Colones :121"
   ]
  },
  {
   "cell_type": "code",
   "execution_count": 8,
   "id": "4b572c14",
   "metadata": {},
   "outputs": [
    {
     "data": {
      "text/plain": [
       "BCT_CODBUR        int64\n",
       "CTR_MATFIS        int64\n",
       "CTR_CATEGO_X     object\n",
       "FJU_CODFJU        int64\n",
       "CTR_CESSAT        int64\n",
       "                 ...   \n",
       "FAC_MNTPRI_C    float64\n",
       "FAC_MFODEC_C    float64\n",
       "FAC_MNTDCO_C    float64\n",
       "FAC_MNTTVA_C    float64\n",
       "id               object\n",
       "Length: 121, dtype: object"
      ]
     },
     "execution_count": 8,
     "metadata": {},
     "output_type": "execute_result"
    }
   ],
   "source": [
    "# Identifions les types des variables dans la base de données\n",
    "data.dtypes"
   ]
  },
  {
   "cell_type": "code",
   "execution_count": 9,
   "id": "5be1191a",
   "metadata": {},
   "outputs": [
    {
     "data": {
      "text/plain": [
       "float64    103\n",
       "int64       16\n",
       "object       2\n",
       "dtype: int64"
      ]
     },
     "execution_count": 9,
     "metadata": {},
     "output_type": "execute_result"
    }
   ],
   "source": [
    "data.dtypes.value_counts()"
   ]
  },
  {
   "cell_type": "code",
   "execution_count": 10,
   "id": "073559e5",
   "metadata": {},
   "outputs": [
    {
     "data": {
      "text/plain": [
       "BCT_CODBUR          0\n",
       "CTR_MATFIS          0\n",
       "CTR_CATEGO_X        0\n",
       "FJU_CODFJU          0\n",
       "CTR_CESSAT          0\n",
       "                ...  \n",
       "FAC_MNTPRI_C    19182\n",
       "FAC_MFODEC_C    19182\n",
       "FAC_MNTDCO_C    19182\n",
       "FAC_MNTTVA_C    19182\n",
       "id                  0\n",
       "Length: 121, dtype: int64"
      ]
     },
     "execution_count": 10,
     "metadata": {},
     "output_type": "execute_result"
    }
   ],
   "source": [
    "# Identifions les valeurs manquantes\n",
    "data.isna().sum()"
   ]
  },
  {
   "cell_type": "code",
   "execution_count": 11,
   "id": "ab2cfc59",
   "metadata": {},
   "outputs": [
    {
     "data": {
      "text/plain": [
       "<AxesSubplot:>"
      ]
     },
     "execution_count": 11,
     "metadata": {},
     "output_type": "execute_result"
    },
    {
     "data": {
      "image/png": "[encoded data removed]",
      "text/plain": [
       "<Figure size 432x288 with 2 Axes>"
      ]
     },
     "metadata": {
      "needs_background": "light"
     },
     "output_type": "display_data"
    }
   ],
   "source": [
    "# Visualisons graphiquement l'ensemble de valeurs manquantes\n",
    "sns.heatmap(data.isna())"
   ]
  },
  {
   "cell_type": "code",
   "execution_count": 34,
   "id": "f169bc76",
   "metadata": {},
   "outputs": [
    {
     "name": "stdout",
     "output_type": "stream",
     "text": [
      "donnees manquante\n",
      "donnees manquante\n",
      "donnees manquante\n",
      "donnees manquante\n",
      "donnees manquante\n",
      "donnees manquante\n",
      "donnees manquante\n",
      "donnees manquante\n",
      "donnees manquante\n",
      "donnees manquante\n",
      "donnees manquante\n",
      "donnees manquante\n",
      "donnees manquante\n",
      "donnees manquante\n",
      "donnees manquante\n",
      "donnees manquante\n",
      "donnees manquante\n",
      "donnees manquante\n",
      "donnees manquante\n",
      "donnees manquante\n",
      "donnees manquante\n",
      "donnees manquante\n",
      "donnees manquante\n",
      "donnees manquante\n",
      "donnees manquante\n",
      "donnees manquante\n",
      "donnees manquante\n",
      "donnees manquante\n",
      "donnees manquante\n",
      "donnees manquante\n"
     ]
    }
   ],
   "source": [
    "# df=pd.DataFrame()\n",
    "# for i in data :\n",
    "#     if (data[i].isna().sum()>= 10000):\n",
    "#         dfr=data.drop([i],axis=1)\n",
    "#         df=df.append(dfr)\n",
    "df=pd.DataFrame()\n",
    "for i in data :\n",
    "    if (data[i].isna().sum()< 10000):\n",
    "        df=df.append(data[i])\n",
    "    else:\n",
    "        print(\"donnees manquante\")"
   ]
  },
  {
   "cell_type": "code",
   "execution_count": 39,
   "id": "5780c179",
   "metadata": {},
   "outputs": [
    {
     "data": {
      "text/html": [
       "<div>\n",
       "<style scoped>\n",
       "    .dataframe tbody tr th:only-of-type {\n",
       "        vertical-align: middle;\n",
       "    }\n",
       "\n",
       "    .dataframe tbody tr th {\n",
       "        vertical-align: top;\n",
       "    }\n",
       "\n",
       "    .dataframe thead th {\n",
       "        text-align: right;\n",
       "    }\n",
       "</style>\n",
       "<table border=\"1\" class=\"dataframe\">\n",
       "  <thead>\n",
       "    <tr style=\"text-align: right;\">\n",
       "      <th></th>\n",
       "      <th>BCT_CODBUR</th>\n",
       "      <th>CTR_MATFIS</th>\n",
       "      <th>CTR_CATEGO_X</th>\n",
       "      <th>FJU_CODFJU</th>\n",
       "      <th>CTR_CESSAT</th>\n",
       "      <th>ACT_CODACT</th>\n",
       "      <th>CTR_OBLDIR</th>\n",
       "      <th>CTR_OBLACP</th>\n",
       "      <th>CTR_OBLRES</th>\n",
       "      <th>CTR_OBLFOP</th>\n",
       "      <th>...</th>\n",
       "      <th>TVA_CA132018</th>\n",
       "      <th>TVA_CA192018</th>\n",
       "      <th>AX1_BRTIMP</th>\n",
       "      <th>AX2_HONORA</th>\n",
       "      <th>AX2_LOYERS</th>\n",
       "      <th>AX3_REVCAP</th>\n",
       "      <th>AX5_MNTMAR</th>\n",
       "      <th>RES_ANNIMP</th>\n",
       "      <th>target</th>\n",
       "      <th>id</th>\n",
       "    </tr>\n",
       "  </thead>\n",
       "  <tbody>\n",
       "    <tr>\n",
       "      <th>0</th>\n",
       "      <td>44.0</td>\n",
       "      <td>6210.0</td>\n",
       "      <td>C</td>\n",
       "      <td>99</td>\n",
       "      <td>0</td>\n",
       "      <td>3707</td>\n",
       "      <td>4</td>\n",
       "      <td>2</td>\n",
       "      <td>2</td>\n",
       "      <td>2</td>\n",
       "      <td>...</td>\n",
       "      <td>0.0</td>\n",
       "      <td>0.0</td>\n",
       "      <td>0.0</td>\n",
       "      <td>2950000.0</td>\n",
       "      <td>0.0</td>\n",
       "      <td>0.0</td>\n",
       "      <td>602769328.0</td>\n",
       "      <td>2014</td>\n",
       "      <td>16.639203</td>\n",
       "      <td>train_id17437</td>\n",
       "    </tr>\n",
       "    <tr>\n",
       "      <th>1</th>\n",
       "      <td>401.0</td>\n",
       "      <td>14383.0</td>\n",
       "      <td>M</td>\n",
       "      <td>22</td>\n",
       "      <td>0</td>\n",
       "      <td>6105</td>\n",
       "      <td>4</td>\n",
       "      <td>2</td>\n",
       "      <td>2</td>\n",
       "      <td>2</td>\n",
       "      <td>...</td>\n",
       "      <td>0.0</td>\n",
       "      <td>0.0</td>\n",
       "      <td>0.0</td>\n",
       "      <td>203353885.0</td>\n",
       "      <td>0.0</td>\n",
       "      <td>0.0</td>\n",
       "      <td>14785200.0</td>\n",
       "      <td>2013</td>\n",
       "      <td>17.827703</td>\n",
       "      <td>train_id5086</td>\n",
       "    </tr>\n",
       "    <tr>\n",
       "      <th>2</th>\n",
       "      <td>243.0</td>\n",
       "      <td>11555.0</td>\n",
       "      <td>M</td>\n",
       "      <td>23</td>\n",
       "      <td>0</td>\n",
       "      <td>5751</td>\n",
       "      <td>4</td>\n",
       "      <td>2</td>\n",
       "      <td>2</td>\n",
       "      <td>2</td>\n",
       "      <td>...</td>\n",
       "      <td>0.0</td>\n",
       "      <td>0.0</td>\n",
       "      <td>0.0</td>\n",
       "      <td>0.0</td>\n",
       "      <td>0.0</td>\n",
       "      <td>0.0</td>\n",
       "      <td>10792800.0</td>\n",
       "      <td>2013</td>\n",
       "      <td>15.473503</td>\n",
       "      <td>train_id1443</td>\n",
       "    </tr>\n",
       "    <tr>\n",
       "      <th>3</th>\n",
       "      <td>72.0</td>\n",
       "      <td>6175.0</td>\n",
       "      <td>C</td>\n",
       "      <td>99</td>\n",
       "      <td>0</td>\n",
       "      <td>4402</td>\n",
       "      <td>4</td>\n",
       "      <td>2</td>\n",
       "      <td>2</td>\n",
       "      <td>2</td>\n",
       "      <td>...</td>\n",
       "      <td>0.0</td>\n",
       "      <td>0.0</td>\n",
       "      <td>0.0</td>\n",
       "      <td>0.0</td>\n",
       "      <td>0.0</td>\n",
       "      <td>0.0</td>\n",
       "      <td>0.0</td>\n",
       "      <td>2017</td>\n",
       "      <td>0.0</td>\n",
       "      <td>train_id15469</td>\n",
       "    </tr>\n",
       "    <tr>\n",
       "      <th>4</th>\n",
       "      <td>42.0</td>\n",
       "      <td>1417.0</td>\n",
       "      <td>M</td>\n",
       "      <td>23</td>\n",
       "      <td>0</td>\n",
       "      <td>6302</td>\n",
       "      <td>4</td>\n",
       "      <td>2</td>\n",
       "      <td>2</td>\n",
       "      <td>2</td>\n",
       "      <td>...</td>\n",
       "      <td>0.0</td>\n",
       "      <td>0.0</td>\n",
       "      <td>0.0</td>\n",
       "      <td>0.0</td>\n",
       "      <td>0.0</td>\n",
       "      <td>0.0</td>\n",
       "      <td>0.0</td>\n",
       "      <td>2014</td>\n",
       "      <td>14.286244</td>\n",
       "      <td>train_id14368</td>\n",
       "    </tr>\n",
       "  </tbody>\n",
       "</table>\n",
       "<p>5 rows × 91 columns</p>\n",
       "</div>"
      ],
      "text/plain": [
       "  BCT_CODBUR CTR_MATFIS CTR_CATEGO_X FJU_CODFJU CTR_CESSAT ACT_CODACT  \\\n",
       "0       44.0     6210.0            C         99          0       3707   \n",
       "1      401.0    14383.0            M         22          0       6105   \n",
       "2      243.0    11555.0            M         23          0       5751   \n",
       "3       72.0     6175.0            C         99          0       4402   \n",
       "4       42.0     1417.0            M         23          0       6302   \n",
       "\n",
       "  CTR_OBLDIR CTR_OBLACP CTR_OBLRES CTR_OBLFOP  ... TVA_CA132018 TVA_CA192018  \\\n",
       "0          4          2          2          2  ...          0.0          0.0   \n",
       "1          4          2          2          2  ...          0.0          0.0   \n",
       "2          4          2          2          2  ...          0.0          0.0   \n",
       "3          4          2          2          2  ...          0.0          0.0   \n",
       "4          4          2          2          2  ...          0.0          0.0   \n",
       "\n",
       "  AX1_BRTIMP   AX2_HONORA AX2_LOYERS AX3_REVCAP   AX5_MNTMAR RES_ANNIMP  \\\n",
       "0        0.0    2950000.0        0.0        0.0  602769328.0       2014   \n",
       "1        0.0  203353885.0        0.0        0.0   14785200.0       2013   \n",
       "2        0.0          0.0        0.0        0.0   10792800.0       2013   \n",
       "3        0.0          0.0        0.0        0.0          0.0       2017   \n",
       "4        0.0          0.0        0.0        0.0          0.0       2014   \n",
       "\n",
       "      target             id  \n",
       "0  16.639203  train_id17437  \n",
       "1  17.827703   train_id5086  \n",
       "2  15.473503   train_id1443  \n",
       "3        0.0  train_id15469  \n",
       "4  14.286244  train_id14368  \n",
       "\n",
       "[5 rows x 91 columns]"
      ]
     },
     "execution_count": 39,
     "metadata": {},
     "output_type": "execute_result"
    }
   ],
   "source": [
    "df=df.transpose()\n",
    "df.head()"
   ]
  },
  {
   "cell_type": "code",
   "execution_count": 42,
   "id": "8986c0bf",
   "metadata": {},
   "outputs": [
    {
     "data": {
      "text/plain": [
       "(21295, 91)"
      ]
     },
     "execution_count": 42,
     "metadata": {},
     "output_type": "execute_result"
    }
   ],
   "source": [
    "df.shape"
   ]
  },
  {
   "cell_type": "code",
   "execution_count": 43,
   "id": "113d454a",
   "metadata": {},
   "outputs": [
    {
     "data": {
      "text/plain": [
       "<AxesSubplot:>"
      ]
     },
     "execution_count": 43,
     "metadata": {},
     "output_type": "execute_result"
    },
    {
     "data": {
      "image/png": "[encoded data removed]",
      "text/plain": [
       "<Figure size 432x288 with 2 Axes>"
      ]
     },
     "metadata": {
      "needs_background": "light"
     },
     "output_type": "display_data"
    }
   ],
   "source": [
    "sns.heatmap(df.isna())"
   ]
  },
  {
   "cell_type": "code",
   "execution_count": 44,
   "id": "00b15653",
   "metadata": {},
   "outputs": [],
   "source": [
    "df=df.dropna(axis=0)"
   ]
  },
  {
   "cell_type": "code",
   "execution_count": 45,
   "id": "7e28b8b5",
   "metadata": {},
   "outputs": [
    {
     "data": {
      "text/plain": [
       "<AxesSubplot:>"
      ]
     },
     "execution_count": 45,
     "metadata": {},
     "output_type": "execute_result"
    },
    {
     "data": {
      "image/png": "[encoded data removed]",
      "text/plain": [
       "<Figure size 432x288 with 2 Axes>"
      ]
     },
     "metadata": {
      "needs_background": "light"
     },
     "output_type": "display_data"
    }
   ],
   "source": [
    "sns.heatmap(df.isna())"
   ]
  },
  {
   "cell_type": "code",
   "execution_count": 46,
   "id": "ace54c89",
   "metadata": {},
   "outputs": [
    {
     "data": {
      "text/plain": [
       "(15151, 91)"
      ]
     },
     "execution_count": 46,
     "metadata": {},
     "output_type": "execute_result"
    }
   ],
   "source": [
    "df.shape"
   ]
  },
  {
   "cell_type": "code",
   "execution_count": 52,
   "id": "1a937110",
   "metadata": {},
   "outputs": [
    {
     "data": {
      "text/plain": [
       "object    91\n",
       "dtype: int64"
      ]
     },
     "execution_count": 52,
     "metadata": {},
     "output_type": "execute_result"
    }
   ],
   "source": [
    "df.dtypes.value_counts()"
   ]
  },
  {
   "cell_type": "code",
   "execution_count": 54,
   "id": "caf24fb2",
   "metadata": {},
   "outputs": [
    {
     "data": {
      "text/html": [
       "<div>\n",
       "<style scoped>\n",
       "    .dataframe tbody tr th:only-of-type {\n",
       "        vertical-align: middle;\n",
       "    }\n",
       "\n",
       "    .dataframe tbody tr th {\n",
       "        vertical-align: top;\n",
       "    }\n",
       "\n",
       "    .dataframe thead th {\n",
       "        text-align: right;\n",
       "    }\n",
       "</style>\n",
       "<table border=\"1\" class=\"dataframe\">\n",
       "  <thead>\n",
       "    <tr style=\"text-align: right;\">\n",
       "      <th></th>\n",
       "      <th>BCT_CODBUR</th>\n",
       "      <th>CTR_MATFIS</th>\n",
       "      <th>CTR_CATEGO_X</th>\n",
       "      <th>FJU_CODFJU</th>\n",
       "      <th>CTR_CESSAT</th>\n",
       "      <th>ACT_CODACT</th>\n",
       "      <th>CTR_OBLDIR</th>\n",
       "      <th>CTR_OBLACP</th>\n",
       "      <th>CTR_OBLRES</th>\n",
       "      <th>CTR_OBLFOP</th>\n",
       "      <th>...</th>\n",
       "      <th>TVA_CA132018</th>\n",
       "      <th>TVA_CA192018</th>\n",
       "      <th>AX1_BRTIMP</th>\n",
       "      <th>AX2_HONORA</th>\n",
       "      <th>AX2_LOYERS</th>\n",
       "      <th>AX3_REVCAP</th>\n",
       "      <th>AX5_MNTMAR</th>\n",
       "      <th>RES_ANNIMP</th>\n",
       "      <th>target</th>\n",
       "      <th>id</th>\n",
       "    </tr>\n",
       "  </thead>\n",
       "  <tbody>\n",
       "    <tr>\n",
       "      <th>0</th>\n",
       "      <td>44.0</td>\n",
       "      <td>6210.0</td>\n",
       "      <td>C</td>\n",
       "      <td>99</td>\n",
       "      <td>0</td>\n",
       "      <td>3707</td>\n",
       "      <td>4</td>\n",
       "      <td>2</td>\n",
       "      <td>2</td>\n",
       "      <td>2</td>\n",
       "      <td>...</td>\n",
       "      <td>0.0</td>\n",
       "      <td>0.0</td>\n",
       "      <td>0.0</td>\n",
       "      <td>2950000.0</td>\n",
       "      <td>0.0</td>\n",
       "      <td>0.0</td>\n",
       "      <td>602769328.0</td>\n",
       "      <td>2014</td>\n",
       "      <td>16.639203</td>\n",
       "      <td>train_id17437</td>\n",
       "    </tr>\n",
       "    <tr>\n",
       "      <th>1</th>\n",
       "      <td>401.0</td>\n",
       "      <td>14383.0</td>\n",
       "      <td>M</td>\n",
       "      <td>22</td>\n",
       "      <td>0</td>\n",
       "      <td>6105</td>\n",
       "      <td>4</td>\n",
       "      <td>2</td>\n",
       "      <td>2</td>\n",
       "      <td>2</td>\n",
       "      <td>...</td>\n",
       "      <td>0.0</td>\n",
       "      <td>0.0</td>\n",
       "      <td>0.0</td>\n",
       "      <td>203353885.0</td>\n",
       "      <td>0.0</td>\n",
       "      <td>0.0</td>\n",
       "      <td>14785200.0</td>\n",
       "      <td>2013</td>\n",
       "      <td>17.827703</td>\n",
       "      <td>train_id5086</td>\n",
       "    </tr>\n",
       "    <tr>\n",
       "      <th>2</th>\n",
       "      <td>243.0</td>\n",
       "      <td>11555.0</td>\n",
       "      <td>M</td>\n",
       "      <td>23</td>\n",
       "      <td>0</td>\n",
       "      <td>5751</td>\n",
       "      <td>4</td>\n",
       "      <td>2</td>\n",
       "      <td>2</td>\n",
       "      <td>2</td>\n",
       "      <td>...</td>\n",
       "      <td>0.0</td>\n",
       "      <td>0.0</td>\n",
       "      <td>0.0</td>\n",
       "      <td>0.0</td>\n",
       "      <td>0.0</td>\n",
       "      <td>0.0</td>\n",
       "      <td>10792800.0</td>\n",
       "      <td>2013</td>\n",
       "      <td>15.473503</td>\n",
       "      <td>train_id1443</td>\n",
       "    </tr>\n",
       "    <tr>\n",
       "      <th>3</th>\n",
       "      <td>72.0</td>\n",
       "      <td>6175.0</td>\n",
       "      <td>C</td>\n",
       "      <td>99</td>\n",
       "      <td>0</td>\n",
       "      <td>4402</td>\n",
       "      <td>4</td>\n",
       "      <td>2</td>\n",
       "      <td>2</td>\n",
       "      <td>2</td>\n",
       "      <td>...</td>\n",
       "      <td>0.0</td>\n",
       "      <td>0.0</td>\n",
       "      <td>0.0</td>\n",
       "      <td>0.0</td>\n",
       "      <td>0.0</td>\n",
       "      <td>0.0</td>\n",
       "      <td>0.0</td>\n",
       "      <td>2017</td>\n",
       "      <td>0.0</td>\n",
       "      <td>train_id15469</td>\n",
       "    </tr>\n",
       "    <tr>\n",
       "      <th>4</th>\n",
       "      <td>42.0</td>\n",
       "      <td>1417.0</td>\n",
       "      <td>M</td>\n",
       "      <td>23</td>\n",
       "      <td>0</td>\n",
       "      <td>6302</td>\n",
       "      <td>4</td>\n",
       "      <td>2</td>\n",
       "      <td>2</td>\n",
       "      <td>2</td>\n",
       "      <td>...</td>\n",
       "      <td>0.0</td>\n",
       "      <td>0.0</td>\n",
       "      <td>0.0</td>\n",
       "      <td>0.0</td>\n",
       "      <td>0.0</td>\n",
       "      <td>0.0</td>\n",
       "      <td>0.0</td>\n",
       "      <td>2014</td>\n",
       "      <td>14.286244</td>\n",
       "      <td>train_id14368</td>\n",
       "    </tr>\n",
       "  </tbody>\n",
       "</table>\n",
       "<p>5 rows × 91 columns</p>\n",
       "</div>"
      ],
      "text/plain": [
       "  BCT_CODBUR CTR_MATFIS CTR_CATEGO_X FJU_CODFJU CTR_CESSAT ACT_CODACT  \\\n",
       "0       44.0     6210.0            C         99          0       3707   \n",
       "1      401.0    14383.0            M         22          0       6105   \n",
       "2      243.0    11555.0            M         23          0       5751   \n",
       "3       72.0     6175.0            C         99          0       4402   \n",
       "4       42.0     1417.0            M         23          0       6302   \n",
       "\n",
       "  CTR_OBLDIR CTR_OBLACP CTR_OBLRES CTR_OBLFOP  ... TVA_CA132018 TVA_CA192018  \\\n",
       "0          4          2          2          2  ...          0.0          0.0   \n",
       "1          4          2          2          2  ...          0.0          0.0   \n",
       "2          4          2          2          2  ...          0.0          0.0   \n",
       "3          4          2          2          2  ...          0.0          0.0   \n",
       "4          4          2          2          2  ...          0.0          0.0   \n",
       "\n",
       "  AX1_BRTIMP   AX2_HONORA AX2_LOYERS AX3_REVCAP   AX5_MNTMAR RES_ANNIMP  \\\n",
       "0        0.0    2950000.0        0.0        0.0  602769328.0       2014   \n",
       "1        0.0  203353885.0        0.0        0.0   14785200.0       2013   \n",
       "2        0.0          0.0        0.0        0.0   10792800.0       2013   \n",
       "3        0.0          0.0        0.0        0.0          0.0       2017   \n",
       "4        0.0          0.0        0.0        0.0          0.0       2014   \n",
       "\n",
       "      target             id  \n",
       "0  16.639203  train_id17437  \n",
       "1  17.827703   train_id5086  \n",
       "2  15.473503   train_id1443  \n",
       "3        0.0  train_id15469  \n",
       "4  14.286244  train_id14368  \n",
       "\n",
       "[5 rows x 91 columns]"
      ]
     },
     "execution_count": 54,
     "metadata": {},
     "output_type": "execute_result"
    }
   ],
   "source": [
    "df.head()"
   ]
  },
  {
   "cell_type": "markdown",
   "id": "ebd025ca",
   "metadata": {},
   "source": []
  },
  {
   "cell_type": "code",
   "execution_count": 138,
   "id": "3e30d003",
   "metadata": {},
   "outputs": [
    {
     "data": {
      "text/plain": [
       "[<matplotlib.lines.Line2D at 0x152a68e5b50>]"
      ]
     },
     "execution_count": 138,
     "metadata": {},
     "output_type": "execute_result"
    },
    {
     "data": {
      "image/png": "[encoded data removed]",
      "text/plain": [
       "<Figure size 432x288 with 1 Axes>"
      ]
     },
     "metadata": {
      "needs_background": "light"
     },
     "output_type": "display_data"
    }
   ],
   "source": [
    "plt.plot(df['target'])"
   ]
  },
  {
   "cell_type": "code",
   "execution_count": 137,
   "id": "fcad3afd",
   "metadata": {},
   "outputs": [
    {
     "name": "stderr",
     "output_type": "stream",
     "text": [
      "C:\\Users\\NEUMAN\\anaconda3\\lib\\site-packages\\seaborn\\distributions.py:2557: FutureWarning: `distplot` is a deprecated function and will be removed in a future version. Please adapt your code to use either `displot` (a figure-level function with similar flexibility) or `histplot` (an axes-level function for histograms).\n",
      "  warnings.warn(msg, FutureWarning)\n"
     ]
    },
    {
     "data": {
      "text/plain": [
       "<AxesSubplot:xlabel='target', ylabel='Density'>"
      ]
     },
     "execution_count": 137,
     "metadata": {},
     "output_type": "execute_result"
    },
    {
     "data": {
      "image/png": "[encoded data removed]",
      "text/plain": [
       "<Figure size 432x288 with 1 Axes>"
      ]
     },
     "metadata": {
      "needs_background": "light"
     },
     "output_type": "display_data"
    }
   ],
   "source": [
    "sns.distplot(df['target'])"
   ]
  },
  {
   "cell_type": "code",
   "execution_count": 139,
   "id": "8fd86ba1",
   "metadata": {},
   "outputs": [
    {
     "data": {
      "text/plain": [
       "<AxesSubplot:xlabel='target', ylabel='Count'>"
      ]
     },
     "execution_count": 139,
     "metadata": {},
     "output_type": "execute_result"
    },
    {
     "data": {
      "image/png": "[encoded data removed]",
      "text/plain": [
       "<Figure size 432x288 with 1 Axes>"
      ]
     },
     "metadata": {
      "needs_background": "light"
     },
     "output_type": "display_data"
    }
   ],
   "source": [
    "sns.histplot(df['target'])"
   ]
  },
  {
   "cell_type": "code",
   "execution_count": 142,
   "id": "b567d0a8",
   "metadata": {},
   "outputs": [
    {
     "name": "stderr",
     "output_type": "stream",
     "text": [
      "C:\\Users\\NEUMAN\\anaconda3\\lib\\site-packages\\seaborn\\_decorators.py:36: FutureWarning: Pass the following variable as a keyword arg: x. From version 0.12, the only valid positional argument will be `data`, and passing other arguments without an explicit keyword will result in an error or misinterpretation.\n",
      "  warnings.warn(\n"
     ]
    },
    {
     "data": {
      "text/plain": [
       "<AxesSubplot:xlabel='target', ylabel='count'>"
      ]
     },
     "execution_count": 142,
     "metadata": {},
     "output_type": "execute_result"
    },
    {
     "data": {
      "image/png": "[encoded data removed]",
      "text/plain": [
       "<Figure size 432x288 with 1 Axes>"
      ]
     },
     "metadata": {
      "needs_background": "light"
     },
     "output_type": "display_data"
    }
   ],
   "source": [
    "sns.countplot(df['target'])"
   ]
  },
  {
   "cell_type": "code",
   "execution_count": 57,
   "id": "c059964b",
   "metadata": {},
   "outputs": [
    {
     "data": {
      "text/plain": [
       "BCT_CODBUR               44.0\n",
       "CTR_MATFIS             6210.0\n",
       "CTR_CATEGO_X                C\n",
       "FJU_CODFJU                 99\n",
       "CTR_CESSAT                  0\n",
       "                    ...      \n",
       "AX3_REVCAP                0.0\n",
       "AX5_MNTMAR        602769328.0\n",
       "RES_ANNIMP               2014\n",
       "target              16.639203\n",
       "id              train_id17437\n",
       "Name: 0, Length: 91, dtype: object"
      ]
     },
     "execution_count": 57,
     "metadata": {},
     "output_type": "execute_result"
    }
   ],
   "source": [
    "df.loc[0]"
   ]
  },
  {
   "cell_type": "code",
   "execution_count": 61,
   "id": "4c5840ee",
   "metadata": {},
   "outputs": [
    {
     "data": {
      "text/html": [
       "<div>\n",
       "<style scoped>\n",
       "    .dataframe tbody tr th:only-of-type {\n",
       "        vertical-align: middle;\n",
       "    }\n",
       "\n",
       "    .dataframe tbody tr th {\n",
       "        vertical-align: top;\n",
       "    }\n",
       "\n",
       "    .dataframe thead th {\n",
       "        text-align: right;\n",
       "    }\n",
       "</style>\n",
       "<table border=\"1\" class=\"dataframe\">\n",
       "  <thead>\n",
       "    <tr style=\"text-align: right;\">\n",
       "      <th></th>\n",
       "      <th>BCT_CODBUR</th>\n",
       "      <th>CTR_MATFIS</th>\n",
       "      <th>CTR_CATEGO_X</th>\n",
       "      <th>FJU_CODFJU</th>\n",
       "      <th>CTR_CESSAT</th>\n",
       "      <th>ACT_CODACT</th>\n",
       "      <th>CTR_OBLDIR</th>\n",
       "      <th>CTR_OBLACP</th>\n",
       "      <th>CTR_OBLRES</th>\n",
       "      <th>CTR_OBLFOP</th>\n",
       "      <th>...</th>\n",
       "      <th>TVA_CA132018</th>\n",
       "      <th>TVA_CA192018</th>\n",
       "      <th>AX1_BRTIMP</th>\n",
       "      <th>AX2_HONORA</th>\n",
       "      <th>AX2_LOYERS</th>\n",
       "      <th>AX3_REVCAP</th>\n",
       "      <th>AX5_MNTMAR</th>\n",
       "      <th>RES_ANNIMP</th>\n",
       "      <th>target</th>\n",
       "      <th>id</th>\n",
       "    </tr>\n",
       "  </thead>\n",
       "  <tbody>\n",
       "    <tr>\n",
       "      <th>0</th>\n",
       "      <td>44.0</td>\n",
       "      <td>6210.0</td>\n",
       "      <td>C</td>\n",
       "      <td>99</td>\n",
       "      <td>0</td>\n",
       "      <td>3707</td>\n",
       "      <td>4</td>\n",
       "      <td>2</td>\n",
       "      <td>2</td>\n",
       "      <td>2</td>\n",
       "      <td>...</td>\n",
       "      <td>0.0</td>\n",
       "      <td>0.0</td>\n",
       "      <td>0.0</td>\n",
       "      <td>2950000.0</td>\n",
       "      <td>0.0</td>\n",
       "      <td>0.0</td>\n",
       "      <td>602769328.0</td>\n",
       "      <td>2014</td>\n",
       "      <td>16.639203</td>\n",
       "      <td>train_id17437</td>\n",
       "    </tr>\n",
       "  </tbody>\n",
       "</table>\n",
       "<p>1 rows × 91 columns</p>\n",
       "</div>"
      ],
      "text/plain": [
       "  BCT_CODBUR CTR_MATFIS CTR_CATEGO_X FJU_CODFJU CTR_CESSAT ACT_CODACT  \\\n",
       "0       44.0     6210.0            C         99          0       3707   \n",
       "\n",
       "  CTR_OBLDIR CTR_OBLACP CTR_OBLRES CTR_OBLFOP  ... TVA_CA132018 TVA_CA192018  \\\n",
       "0          4          2          2          2  ...          0.0          0.0   \n",
       "\n",
       "  AX1_BRTIMP AX2_HONORA AX2_LOYERS AX3_REVCAP   AX5_MNTMAR RES_ANNIMP  \\\n",
       "0        0.0  2950000.0        0.0        0.0  602769328.0       2014   \n",
       "\n",
       "      target             id  \n",
       "0  16.639203  train_id17437  \n",
       "\n",
       "[1 rows x 91 columns]"
      ]
     },
     "execution_count": 61,
     "metadata": {},
     "output_type": "execute_result"
    }
   ],
   "source": [
    "# Afficher une ligne en fonction de la valeur de l'id\n",
    "df.loc[df['id']==\"train_id17437\"]"
   ]
  },
  {
   "cell_type": "code",
   "execution_count": 62,
   "id": "0d913029",
   "metadata": {},
   "outputs": [],
   "source": [
    "df_user=df.drop(['id'],axis=1)"
   ]
  },
  {
   "cell_type": "code",
   "execution_count": 64,
   "id": "e4ce7ffc",
   "metadata": {},
   "outputs": [
    {
     "data": {
      "text/html": [
       "<div>\n",
       "<style scoped>\n",
       "    .dataframe tbody tr th:only-of-type {\n",
       "        vertical-align: middle;\n",
       "    }\n",
       "\n",
       "    .dataframe tbody tr th {\n",
       "        vertical-align: top;\n",
       "    }\n",
       "\n",
       "    .dataframe thead th {\n",
       "        text-align: right;\n",
       "    }\n",
       "</style>\n",
       "<table border=\"1\" class=\"dataframe\">\n",
       "  <thead>\n",
       "    <tr style=\"text-align: right;\">\n",
       "      <th></th>\n",
       "      <th>BCT_CODBUR</th>\n",
       "      <th>CTR_MATFIS</th>\n",
       "      <th>CTR_CATEGO_X</th>\n",
       "      <th>FJU_CODFJU</th>\n",
       "      <th>CTR_CESSAT</th>\n",
       "      <th>ACT_CODACT</th>\n",
       "      <th>CTR_OBLDIR</th>\n",
       "      <th>CTR_OBLACP</th>\n",
       "      <th>CTR_OBLRES</th>\n",
       "      <th>CTR_OBLFOP</th>\n",
       "      <th>...</th>\n",
       "      <th>TVA_CA072018</th>\n",
       "      <th>TVA_CA132018</th>\n",
       "      <th>TVA_CA192018</th>\n",
       "      <th>AX1_BRTIMP</th>\n",
       "      <th>AX2_HONORA</th>\n",
       "      <th>AX2_LOYERS</th>\n",
       "      <th>AX3_REVCAP</th>\n",
       "      <th>AX5_MNTMAR</th>\n",
       "      <th>RES_ANNIMP</th>\n",
       "      <th>target</th>\n",
       "    </tr>\n",
       "  </thead>\n",
       "  <tbody>\n",
       "    <tr>\n",
       "      <th>0</th>\n",
       "      <td>44.0</td>\n",
       "      <td>6210.0</td>\n",
       "      <td>C</td>\n",
       "      <td>99</td>\n",
       "      <td>0</td>\n",
       "      <td>3707</td>\n",
       "      <td>4</td>\n",
       "      <td>2</td>\n",
       "      <td>2</td>\n",
       "      <td>2</td>\n",
       "      <td>...</td>\n",
       "      <td>0.0</td>\n",
       "      <td>0.0</td>\n",
       "      <td>0.0</td>\n",
       "      <td>0.0</td>\n",
       "      <td>2950000.0</td>\n",
       "      <td>0.0</td>\n",
       "      <td>0.0</td>\n",
       "      <td>602769328.0</td>\n",
       "      <td>2014</td>\n",
       "      <td>16.639203</td>\n",
       "    </tr>\n",
       "    <tr>\n",
       "      <th>1</th>\n",
       "      <td>401.0</td>\n",
       "      <td>14383.0</td>\n",
       "      <td>M</td>\n",
       "      <td>22</td>\n",
       "      <td>0</td>\n",
       "      <td>6105</td>\n",
       "      <td>4</td>\n",
       "      <td>2</td>\n",
       "      <td>2</td>\n",
       "      <td>2</td>\n",
       "      <td>...</td>\n",
       "      <td>0.0</td>\n",
       "      <td>0.0</td>\n",
       "      <td>0.0</td>\n",
       "      <td>0.0</td>\n",
       "      <td>203353885.0</td>\n",
       "      <td>0.0</td>\n",
       "      <td>0.0</td>\n",
       "      <td>14785200.0</td>\n",
       "      <td>2013</td>\n",
       "      <td>17.827703</td>\n",
       "    </tr>\n",
       "    <tr>\n",
       "      <th>2</th>\n",
       "      <td>243.0</td>\n",
       "      <td>11555.0</td>\n",
       "      <td>M</td>\n",
       "      <td>23</td>\n",
       "      <td>0</td>\n",
       "      <td>5751</td>\n",
       "      <td>4</td>\n",
       "      <td>2</td>\n",
       "      <td>2</td>\n",
       "      <td>2</td>\n",
       "      <td>...</td>\n",
       "      <td>0.0</td>\n",
       "      <td>0.0</td>\n",
       "      <td>0.0</td>\n",
       "      <td>0.0</td>\n",
       "      <td>0.0</td>\n",
       "      <td>0.0</td>\n",
       "      <td>0.0</td>\n",
       "      <td>10792800.0</td>\n",
       "      <td>2013</td>\n",
       "      <td>15.473503</td>\n",
       "    </tr>\n",
       "    <tr>\n",
       "      <th>3</th>\n",
       "      <td>72.0</td>\n",
       "      <td>6175.0</td>\n",
       "      <td>C</td>\n",
       "      <td>99</td>\n",
       "      <td>0</td>\n",
       "      <td>4402</td>\n",
       "      <td>4</td>\n",
       "      <td>2</td>\n",
       "      <td>2</td>\n",
       "      <td>2</td>\n",
       "      <td>...</td>\n",
       "      <td>0.0</td>\n",
       "      <td>0.0</td>\n",
       "      <td>0.0</td>\n",
       "      <td>0.0</td>\n",
       "      <td>0.0</td>\n",
       "      <td>0.0</td>\n",
       "      <td>0.0</td>\n",
       "      <td>0.0</td>\n",
       "      <td>2017</td>\n",
       "      <td>0.0</td>\n",
       "    </tr>\n",
       "    <tr>\n",
       "      <th>4</th>\n",
       "      <td>42.0</td>\n",
       "      <td>1417.0</td>\n",
       "      <td>M</td>\n",
       "      <td>23</td>\n",
       "      <td>0</td>\n",
       "      <td>6302</td>\n",
       "      <td>4</td>\n",
       "      <td>2</td>\n",
       "      <td>2</td>\n",
       "      <td>2</td>\n",
       "      <td>...</td>\n",
       "      <td>0.0</td>\n",
       "      <td>0.0</td>\n",
       "      <td>0.0</td>\n",
       "      <td>0.0</td>\n",
       "      <td>0.0</td>\n",
       "      <td>0.0</td>\n",
       "      <td>0.0</td>\n",
       "      <td>0.0</td>\n",
       "      <td>2014</td>\n",
       "      <td>14.286244</td>\n",
       "    </tr>\n",
       "  </tbody>\n",
       "</table>\n",
       "<p>5 rows × 90 columns</p>\n",
       "</div>"
      ],
      "text/plain": [
       "  BCT_CODBUR CTR_MATFIS CTR_CATEGO_X FJU_CODFJU CTR_CESSAT ACT_CODACT  \\\n",
       "0       44.0     6210.0            C         99          0       3707   \n",
       "1      401.0    14383.0            M         22          0       6105   \n",
       "2      243.0    11555.0            M         23          0       5751   \n",
       "3       72.0     6175.0            C         99          0       4402   \n",
       "4       42.0     1417.0            M         23          0       6302   \n",
       "\n",
       "  CTR_OBLDIR CTR_OBLACP CTR_OBLRES CTR_OBLFOP  ... TVA_CA072018 TVA_CA132018  \\\n",
       "0          4          2          2          2  ...          0.0          0.0   \n",
       "1          4          2          2          2  ...          0.0          0.0   \n",
       "2          4          2          2          2  ...          0.0          0.0   \n",
       "3          4          2          2          2  ...          0.0          0.0   \n",
       "4          4          2          2          2  ...          0.0          0.0   \n",
       "\n",
       "  TVA_CA192018 AX1_BRTIMP   AX2_HONORA AX2_LOYERS AX3_REVCAP   AX5_MNTMAR  \\\n",
       "0          0.0        0.0    2950000.0        0.0        0.0  602769328.0   \n",
       "1          0.0        0.0  203353885.0        0.0        0.0   14785200.0   \n",
       "2          0.0        0.0          0.0        0.0        0.0   10792800.0   \n",
       "3          0.0        0.0          0.0        0.0        0.0          0.0   \n",
       "4          0.0        0.0          0.0        0.0        0.0          0.0   \n",
       "\n",
       "  RES_ANNIMP     target  \n",
       "0       2014  16.639203  \n",
       "1       2013  17.827703  \n",
       "2       2013  15.473503  \n",
       "3       2017        0.0  \n",
       "4       2014  14.286244  \n",
       "\n",
       "[5 rows x 90 columns]"
      ]
     },
     "execution_count": 64,
     "metadata": {},
     "output_type": "execute_result"
    }
   ],
   "source": [
    "df_user.head()"
   ]
  },
  {
   "cell_type": "code",
   "execution_count": 70,
   "id": "8bdea242",
   "metadata": {},
   "outputs": [
    {
     "data": {
      "text/plain": [
       "Index(['BCT_CODBUR', 'CTR_MATFIS', 'CTR_CATEGO_X', 'FJU_CODFJU', 'CTR_CESSAT',\n",
       "       'ACT_CODACT', 'CTR_OBLDIR', 'CTR_OBLACP', 'CTR_OBLRES', 'CTR_OBLFOP',\n",
       "       'CTR_OBLTFP', 'CTR_OBLDCO', 'CTR_OBLTVA', 'CTR_OFODEC', 'CTR_OFODEP',\n",
       "       'CTR_OFODET', 'CTR_OBLAUT', 'CTR_OBLASS', 'CTR_ODTIMB', 'CTR_OBLTCL',\n",
       "       'CTR_OBLTHO', 'CTR_OBLDLI', 'CTR_OBLTVI', 'CTR_RATISS', 'EXE_EXERCI',\n",
       "       'TVA_CHAFF6', 'TVA_CHAFF7', 'TVA_CHAF10', 'TVA_CHAF12', 'TVA_CAF125',\n",
       "       'TVA_CHAF15', 'TVA_CHAF18', 'TVA_CHAF22', 'TVA_CHAF29', 'TVA_CHAF36',\n",
       "       'TVA_TOTDUE', 'TVA_MOIDEB', 'TVA_CRDINI', 'TVA_BASIMB', 'TVA_DEDIMB',\n",
       "       'TVA_BASEQL', 'TVA_DEDEQL', 'TVA_BASEQI', 'TVA_DEDEQI', 'TVA_BASAUL',\n",
       "       'TVA_DEDAUL', 'TVA_BASAUI', 'TVA_DEDAUI', 'TVA_BASRSM', 'TVA_DEDRSM',\n",
       "       'TVA_RSNRES', 'TVA_TRSPOR', 'TVA_DEDREG', 'TVA_RESTIT', 'TVA_MNTPAY',\n",
       "       'TVA_MOIFIN', 'TVA_CRDFIN', 'TVA_ACHSUS', 'TVA_ACHEXO', 'TVA_ACHNDD',\n",
       "       'TVA_CAFEXP', 'TVA_CAFSUS', 'TVA_CAFEXO', 'TVA_AACHAB', 'TVA_CRDBLQ',\n",
       "       'TVA_CRDRES', 'TVA_CRDRMP', 'TVA_CRDREP', 'TVA_CRDRMC', 'TVA_MACHN',\n",
       "       'TVA_MCESQ', 'TVA_MTVLSM', 'TVA_TXVLSM', 'TVA_MTALSM', 'TVA_TXALSM',\n",
       "       'TVA_MTORDTVA', 'TVA_MTDJRTVA', 'TVA_MTORDTAX', 'TVA_MTDJRTAX',\n",
       "       'TVA_MTRESTAX', 'TVA_CA072018', 'TVA_CA132018', 'TVA_CA192018',\n",
       "       'AX1_BRTIMP', 'AX2_HONORA', 'AX2_LOYERS', 'AX3_REVCAP', 'AX5_MNTMAR',\n",
       "       'RES_ANNIMP', 'target'],\n",
       "      dtype='object')"
      ]
     },
     "execution_count": 70,
     "metadata": {},
     "output_type": "execute_result"
    }
   ],
   "source": [
    "df_user.columns"
   ]
  },
  {
   "cell_type": "code",
   "execution_count": 40,
   "id": "89198f0d",
   "metadata": {},
   "outputs": [
    {
     "data": {
      "text/plain": [
       "0       NaN\n",
       "1       NaN\n",
       "2       NaN\n",
       "3       NaN\n",
       "4       NaN\n",
       "         ..\n",
       "21290   NaN\n",
       "21291   NaN\n",
       "21292   NaN\n",
       "21293   NaN\n",
       "21294   NaN\n",
       "Name: FAC_MNTPRI_C, Length: 21295, dtype: float64"
      ]
     },
     "execution_count": 40,
     "metadata": {},
     "output_type": "execute_result"
    }
   ],
   "source": [
    "data['FAC_MNTPRI_C']"
   ]
  },
  {
   "cell_type": "code",
   "execution_count": 144,
   "id": "94ab558f",
   "metadata": {},
   "outputs": [
    {
     "data": {
      "text/html": [
       "<div>\n",
       "<style scoped>\n",
       "    .dataframe tbody tr th:only-of-type {\n",
       "        vertical-align: middle;\n",
       "    }\n",
       "\n",
       "    .dataframe tbody tr th {\n",
       "        vertical-align: top;\n",
       "    }\n",
       "\n",
       "    .dataframe thead th {\n",
       "        text-align: right;\n",
       "    }\n",
       "</style>\n",
       "<table border=\"1\" class=\"dataframe\">\n",
       "  <thead>\n",
       "    <tr style=\"text-align: right;\">\n",
       "      <th></th>\n",
       "    </tr>\n",
       "  </thead>\n",
       "  <tbody>\n",
       "  </tbody>\n",
       "</table>\n",
       "</div>"
      ],
      "text/plain": [
       "Empty DataFrame\n",
       "Columns: []\n",
       "Index: []"
      ]
     },
     "execution_count": 144,
     "metadata": {},
     "output_type": "execute_result"
    }
   ],
   "source": [
    "df_user.corr()"
   ]
  },
  {
   "cell_type": "code",
   "execution_count": 145,
   "id": "9ba2b206",
   "metadata": {},
   "outputs": [],
   "source": [
    "from sklearn.feature_selection import SelectKBest,chi2"
   ]
  },
  {
   "cell_type": "code",
   "execution_count": 146,
   "id": "882423e0",
   "metadata": {},
   "outputs": [],
   "source": [
    "x=df_user.drop(['target'],axis=1)\n",
    "y=df_user['target']"
   ]
  },
  {
   "cell_type": "code",
   "execution_count": 147,
   "id": "3a2adf86",
   "metadata": {},
   "outputs": [
    {
     "data": {
      "text/plain": [
       "array(['C', 'M', 'P'], dtype=object)"
      ]
     },
     "execution_count": 147,
     "metadata": {},
     "output_type": "execute_result"
    }
   ],
   "source": [
    "x['CTR_CATEGO_X'].unique()"
   ]
  },
  {
   "cell_type": "code",
   "execution_count": 148,
   "id": "fff9bbc4",
   "metadata": {},
   "outputs": [
    {
     "data": {
      "text/plain": [
       "0        0\n",
       "1        1\n",
       "2        1\n",
       "3        0\n",
       "4        1\n",
       "        ..\n",
       "21290    1\n",
       "21291    1\n",
       "21292    1\n",
       "21293    1\n",
       "21294    2\n",
       "Name: CTR_CATEGO_X, Length: 15151, dtype: int32"
      ]
     },
     "execution_count": 148,
     "metadata": {},
     "output_type": "execute_result"
    }
   ],
   "source": [
    "le=LabelEncoder()\n",
    "x['CTR_CATEGO_X']=le.fit_transform(x['CTR_CATEGO_X'])\n",
    "x['CTR_CATEGO_X']"
   ]
  },
  {
   "cell_type": "code",
   "execution_count": 149,
   "id": "99d5fa52",
   "metadata": {},
   "outputs": [
    {
     "data": {
      "text/plain": [
       "Index(['BCT_CODBUR', 'CTR_MATFIS', 'CTR_CATEGO_X', 'FJU_CODFJU', 'CTR_CESSAT',\n",
       "       'ACT_CODACT', 'CTR_OBLDIR', 'CTR_OBLACP', 'CTR_OBLRES', 'CTR_OBLFOP',\n",
       "       'CTR_OBLTFP', 'CTR_OBLDCO', 'CTR_OBLTVA', 'CTR_OFODEC', 'CTR_OFODEP',\n",
       "       'CTR_OFODET', 'CTR_OBLAUT', 'CTR_OBLASS', 'CTR_ODTIMB', 'CTR_OBLTCL',\n",
       "       'CTR_OBLTHO', 'CTR_OBLDLI', 'CTR_OBLTVI', 'CTR_RATISS', 'EXE_EXERCI',\n",
       "       'TVA_CHAFF6', 'TVA_CHAFF7', 'TVA_CHAF10', 'TVA_CHAF12', 'TVA_CAF125',\n",
       "       'TVA_CHAF15', 'TVA_CHAF18', 'TVA_CHAF22', 'TVA_CHAF29', 'TVA_CHAF36',\n",
       "       'TVA_TOTDUE', 'TVA_MOIDEB', 'TVA_CRDINI', 'TVA_BASIMB', 'TVA_DEDIMB',\n",
       "       'TVA_BASEQL', 'TVA_DEDEQL', 'TVA_BASEQI', 'TVA_DEDEQI', 'TVA_BASAUL',\n",
       "       'TVA_DEDAUL', 'TVA_BASAUI', 'TVA_DEDAUI', 'TVA_BASRSM', 'TVA_DEDRSM',\n",
       "       'TVA_RSNRES', 'TVA_TRSPOR', 'TVA_DEDREG', 'TVA_RESTIT', 'TVA_MNTPAY',\n",
       "       'TVA_MOIFIN', 'TVA_CRDFIN', 'TVA_ACHSUS', 'TVA_ACHEXO', 'TVA_ACHNDD',\n",
       "       'TVA_CAFEXP', 'TVA_CAFSUS', 'TVA_CAFEXO', 'TVA_AACHAB', 'TVA_CRDBLQ',\n",
       "       'TVA_CRDRES', 'TVA_CRDRMP', 'TVA_CRDREP', 'TVA_CRDRMC', 'TVA_MACHN',\n",
       "       'TVA_MCESQ', 'TVA_MTVLSM', 'TVA_TXVLSM', 'TVA_MTALSM', 'TVA_TXALSM',\n",
       "       'TVA_MTORDTVA', 'TVA_MTDJRTVA', 'TVA_MTORDTAX', 'TVA_MTDJRTAX',\n",
       "       'TVA_MTRESTAX', 'TVA_CA072018', 'TVA_CA132018', 'TVA_CA192018',\n",
       "       'AX1_BRTIMP', 'AX2_HONORA', 'AX2_LOYERS', 'AX3_REVCAP', 'AX5_MNTMAR',\n",
       "       'RES_ANNIMP'],\n",
       "      dtype='object')"
      ]
     },
     "execution_count": 149,
     "metadata": {},
     "output_type": "execute_result"
    }
   ],
   "source": [
    "x.columns"
   ]
  },
  {
   "cell_type": "code",
   "execution_count": 150,
   "id": "14898420",
   "metadata": {},
   "outputs": [],
   "source": [
    "x['BCT_CODBUR']=pd.to_numeric(x['BCT_CODBUR'])"
   ]
  },
  {
   "cell_type": "code",
   "execution_count": 151,
   "id": "45f3c6a8",
   "metadata": {},
   "outputs": [],
   "source": [
    "for i in x:\n",
    "    x[i]=pd.to_numeric(x[i])\n",
    "    "
   ]
  },
  {
   "cell_type": "code",
   "execution_count": 152,
   "id": "6ea173f6",
   "metadata": {},
   "outputs": [],
   "source": [
    "y=pd.to_numeric(y1)"
   ]
  },
  {
   "cell_type": "code",
   "execution_count": 153,
   "id": "e1d6af07",
   "metadata": {},
   "outputs": [
    {
     "data": {
      "text/plain": [
       "float64    74\n",
       "int64      14\n",
       "int32       1\n",
       "dtype: int64"
      ]
     },
     "execution_count": 153,
     "metadata": {},
     "output_type": "execute_result"
    }
   ],
   "source": [
    "x.dtypes.value_counts()"
   ]
  },
  {
   "cell_type": "code",
   "execution_count": 154,
   "id": "2b6b3529",
   "metadata": {},
   "outputs": [
    {
     "data": {
      "text/plain": [
       "0        16.639203\n",
       "1        17.827703\n",
       "2        15.473503\n",
       "3         0.000000\n",
       "4        14.286244\n",
       "           ...    \n",
       "21290    16.544842\n",
       "21291    17.651115\n",
       "21292    18.018778\n",
       "21293    15.521108\n",
       "21294    12.460719\n",
       "Name: target, Length: 15151, dtype: float64"
      ]
     },
     "execution_count": 154,
     "metadata": {},
     "output_type": "execute_result"
    }
   ],
   "source": [
    "y"
   ]
  },
  {
   "cell_type": "markdown",
   "id": "4cd9d0dc",
   "metadata": {},
   "source": []
  },
  {
   "cell_type": "code",
   "execution_count": null,
   "id": "ac500a48",
   "metadata": {},
   "outputs": [],
   "source": []
  },
  {
   "cell_type": "code",
   "execution_count": null,
   "id": "749960b2",
   "metadata": {},
   "outputs": [],
   "source": []
  },
  {
   "cell_type": "code",
   "execution_count": null,
   "id": "91ae61b7",
   "metadata": {},
   "outputs": [],
   "source": []
  },
  {
   "cell_type": "code",
   "execution_count": 155,
   "id": "745fde7a",
   "metadata": {},
   "outputs": [
    {
     "data": {
      "text/plain": [
       "array([0.08919198, 0.08955272, 0.13458882, 0.10087401, 0.00139501,\n",
       "       0.16483165, 0.05199195, 0.00166916, 0.00873592, 0.00778775,\n",
       "       0.0076857 , 0.0015844 , 0.00184772, 0.0128628 , 0.        ,\n",
       "       0.00544689, 0.        , 0.0020529 , 0.07445655, 0.        ,\n",
       "       0.00512125, 0.00841258, 0.        , 0.00473954, 0.        ,\n",
       "       0.04384564, 0.00586213, 0.        , 0.02799051, 0.00324086,\n",
       "       0.00567319, 0.09429934, 0.01437133, 0.00030576, 0.00084711,\n",
       "       0.14097851, 0.00690027, 0.1513556 , 0.        , 0.        ,\n",
       "       0.03118691, 0.03627537, 0.01159759, 0.00913907, 0.12249797,\n",
       "       0.12462955, 0.03333892, 0.03867756, 0.04200614, 0.03464259,\n",
       "       0.00405518, 0.        , 0.00678759, 0.02674212, 0.13015603,\n",
       "       0.00354335, 0.15533   , 0.        , 0.00742535, 0.        ,\n",
       "       0.02622115, 0.03756523, 0.00758852, 0.        , 0.        ,\n",
       "       0.00474069, 0.00046761, 0.        , 0.00555432, 0.00199525,\n",
       "       0.0025705 , 0.00263335, 0.00516838, 0.00036848, 0.00135243,\n",
       "       0.        , 0.01039362, 0.        , 0.00068239, 0.00272776,\n",
       "       0.        , 0.        , 0.00033782, 0.00294673, 0.03520234,\n",
       "       0.01197363, 0.02184338, 0.09994483, 0.        ])"
      ]
     },
     "execution_count": 155,
     "metadata": {},
     "output_type": "execute_result"
    }
   ],
   "source": [
    "mutual_info_regression(x,y)\n",
    "#chi2(x1,y1) Classification"
   ]
  },
  {
   "cell_type": "code",
   "execution_count": 156,
   "id": "e2bac3be",
   "metadata": {},
   "outputs": [
    {
     "data": {
      "text/plain": [
       "array([False, False,  True,  True, False,  True, False, False, False,\n",
       "       False, False, False, False, False, False, False, False, False,\n",
       "       False, False, False, False, False, False, False, False, False,\n",
       "       False, False, False, False, False, False, False, False,  True,\n",
       "       False,  True, False, False, False, False, False, False,  True,\n",
       "        True, False, False, False, False, False, False, False, False,\n",
       "        True, False,  True, False, False, False, False, False, False,\n",
       "       False, False, False, False, False, False, False, False, False,\n",
       "       False, False, False, False, False, False, False, False, False,\n",
       "       False, False, False, False, False, False,  True, False])"
      ]
     },
     "execution_count": 156,
     "metadata": {},
     "output_type": "execute_result"
    }
   ],
   "source": [
    "selector=SelectKBest(mutual_info_regression,k=10)\n",
    "selector.fit_transform(x,y)\n",
    "selector.get_support()"
   ]
  },
  {
   "cell_type": "markdown",
   "id": "abd980a5",
   "metadata": {},
   "source": [
    "###### Recursive Feature Selection"
   ]
  },
  {
   "cell_type": "code",
   "execution_count": 170,
   "id": "f6aa30d0",
   "metadata": {},
   "outputs": [],
   "source": [
    "from sklearn.feature_selection import RFE, RFECV\n",
    "from sklearn.linear_model import SGDRegressor"
   ]
  },
  {
   "cell_type": "code",
   "execution_count": 171,
   "id": "01af2806",
   "metadata": {},
   "outputs": [],
   "source": [
    "selector=RFECV(SGDRegressor(), step=10,min_features_to_select=10,cv=10)\n",
    "selector.fit(x,y)\n",
    "#Voir le classement final des différentes variables\n",
    "rang_colonne=selector.ranking_\n",
    "# Le score de SGD a chaque iteration RFECV\n",
    "#selector.grid_scores_\n"
   ]
  },
  {
   "cell_type": "code",
   "execution_count": 172,
   "id": "c4839b11",
   "metadata": {},
   "outputs": [
    {
     "data": {
      "text/plain": [
       "array([6, 6, 7, 7, 9, 6, 9, 7, 7, 7, 7, 8, 7, 8, 8, 8, 8, 8, 8, 7, 8, 9,\n",
       "       8, 9, 6, 3, 5, 6, 1, 9, 4, 3, 2, 7, 9, 1, 8, 2, 4, 5, 3, 1, 1, 3,\n",
       "       1, 2, 3, 3, 2, 2, 4, 6, 3, 5, 1, 7, 1, 4, 4, 4, 5, 2, 3, 5, 4, 5,\n",
       "       5, 9, 3, 4, 1, 5, 6, 2, 6, 5, 1, 9, 9, 9, 3, 5, 2, 6, 4, 4, 2, 1,\n",
       "       6])"
      ]
     },
     "execution_count": 172,
     "metadata": {},
     "output_type": "execute_result"
    }
   ],
   "source": [
    "rang_colonne"
   ]
  },
  {
   "cell_type": "code",
   "execution_count": 173,
   "id": "2564e16a",
   "metadata": {},
   "outputs": [],
   "source": [
    "colonnes_data=x.columns"
   ]
  },
  {
   "cell_type": "code",
   "execution_count": 174,
   "id": "fb376b43",
   "metadata": {},
   "outputs": [
    {
     "data": {
      "text/html": [
       "<div>\n",
       "<style scoped>\n",
       "    .dataframe tbody tr th:only-of-type {\n",
       "        vertical-align: middle;\n",
       "    }\n",
       "\n",
       "    .dataframe tbody tr th {\n",
       "        vertical-align: top;\n",
       "    }\n",
       "\n",
       "    .dataframe thead th {\n",
       "        text-align: right;\n",
       "    }\n",
       "</style>\n",
       "<table border=\"1\" class=\"dataframe\">\n",
       "  <thead>\n",
       "    <tr style=\"text-align: right;\">\n",
       "      <th></th>\n",
       "      <th>0</th>\n",
       "    </tr>\n",
       "  </thead>\n",
       "  <tbody>\n",
       "    <tr>\n",
       "      <th>0</th>\n",
       "      <td>6</td>\n",
       "    </tr>\n",
       "    <tr>\n",
       "      <th>1</th>\n",
       "      <td>6</td>\n",
       "    </tr>\n",
       "    <tr>\n",
       "      <th>2</th>\n",
       "      <td>7</td>\n",
       "    </tr>\n",
       "    <tr>\n",
       "      <th>3</th>\n",
       "      <td>7</td>\n",
       "    </tr>\n",
       "    <tr>\n",
       "      <th>4</th>\n",
       "      <td>9</td>\n",
       "    </tr>\n",
       "    <tr>\n",
       "      <th>...</th>\n",
       "      <td>...</td>\n",
       "    </tr>\n",
       "    <tr>\n",
       "      <th>84</th>\n",
       "      <td>4</td>\n",
       "    </tr>\n",
       "    <tr>\n",
       "      <th>85</th>\n",
       "      <td>4</td>\n",
       "    </tr>\n",
       "    <tr>\n",
       "      <th>86</th>\n",
       "      <td>2</td>\n",
       "    </tr>\n",
       "    <tr>\n",
       "      <th>87</th>\n",
       "      <td>1</td>\n",
       "    </tr>\n",
       "    <tr>\n",
       "      <th>88</th>\n",
       "      <td>6</td>\n",
       "    </tr>\n",
       "  </tbody>\n",
       "</table>\n",
       "<p>89 rows × 1 columns</p>\n",
       "</div>"
      ],
      "text/plain": [
       "    0\n",
       "0   6\n",
       "1   6\n",
       "2   7\n",
       "3   7\n",
       "4   9\n",
       ".. ..\n",
       "84  4\n",
       "85  4\n",
       "86  2\n",
       "87  1\n",
       "88  6\n",
       "\n",
       "[89 rows x 1 columns]"
      ]
     },
     "execution_count": 174,
     "metadata": {},
     "output_type": "execute_result"
    }
   ],
   "source": [
    "df_rang_colonne=pd.DataFrame(rang_colonne)\n",
    "df_rang_colonne"
   ]
  },
  {
   "cell_type": "code",
   "execution_count": 175,
   "id": "6672dd15",
   "metadata": {},
   "outputs": [
    {
     "data": {
      "text/html": [
       "<div>\n",
       "<style scoped>\n",
       "    .dataframe tbody tr th:only-of-type {\n",
       "        vertical-align: middle;\n",
       "    }\n",
       "\n",
       "    .dataframe tbody tr th {\n",
       "        vertical-align: top;\n",
       "    }\n",
       "\n",
       "    .dataframe thead th {\n",
       "        text-align: right;\n",
       "    }\n",
       "</style>\n",
       "<table border=\"1\" class=\"dataframe\">\n",
       "  <thead>\n",
       "    <tr style=\"text-align: right;\">\n",
       "      <th></th>\n",
       "      <th>0</th>\n",
       "    </tr>\n",
       "  </thead>\n",
       "  <tbody>\n",
       "    <tr>\n",
       "      <th>0</th>\n",
       "      <td>BCT_CODBUR</td>\n",
       "    </tr>\n",
       "    <tr>\n",
       "      <th>1</th>\n",
       "      <td>CTR_MATFIS</td>\n",
       "    </tr>\n",
       "    <tr>\n",
       "      <th>2</th>\n",
       "      <td>CTR_CATEGO_X</td>\n",
       "    </tr>\n",
       "    <tr>\n",
       "      <th>3</th>\n",
       "      <td>FJU_CODFJU</td>\n",
       "    </tr>\n",
       "    <tr>\n",
       "      <th>4</th>\n",
       "      <td>CTR_CESSAT</td>\n",
       "    </tr>\n",
       "    <tr>\n",
       "      <th>...</th>\n",
       "      <td>...</td>\n",
       "    </tr>\n",
       "    <tr>\n",
       "      <th>84</th>\n",
       "      <td>AX2_HONORA</td>\n",
       "    </tr>\n",
       "    <tr>\n",
       "      <th>85</th>\n",
       "      <td>AX2_LOYERS</td>\n",
       "    </tr>\n",
       "    <tr>\n",
       "      <th>86</th>\n",
       "      <td>AX3_REVCAP</td>\n",
       "    </tr>\n",
       "    <tr>\n",
       "      <th>87</th>\n",
       "      <td>AX5_MNTMAR</td>\n",
       "    </tr>\n",
       "    <tr>\n",
       "      <th>88</th>\n",
       "      <td>RES_ANNIMP</td>\n",
       "    </tr>\n",
       "  </tbody>\n",
       "</table>\n",
       "<p>89 rows × 1 columns</p>\n",
       "</div>"
      ],
      "text/plain": [
       "               0\n",
       "0     BCT_CODBUR\n",
       "1     CTR_MATFIS\n",
       "2   CTR_CATEGO_X\n",
       "3     FJU_CODFJU\n",
       "4     CTR_CESSAT\n",
       "..           ...\n",
       "84    AX2_HONORA\n",
       "85    AX2_LOYERS\n",
       "86    AX3_REVCAP\n",
       "87    AX5_MNTMAR\n",
       "88    RES_ANNIMP\n",
       "\n",
       "[89 rows x 1 columns]"
      ]
     },
     "execution_count": 175,
     "metadata": {},
     "output_type": "execute_result"
    }
   ],
   "source": [
    "df_colonnes_data=pd.DataFrame(colonnes_data)\n",
    "df_colonnes_data"
   ]
  },
  {
   "cell_type": "code",
   "execution_count": 176,
   "id": "89e095ae",
   "metadata": {},
   "outputs": [
    {
     "data": {
      "text/html": [
       "<div>\n",
       "<style scoped>\n",
       "    .dataframe tbody tr th:only-of-type {\n",
       "        vertical-align: middle;\n",
       "    }\n",
       "\n",
       "    .dataframe tbody tr th {\n",
       "        vertical-align: top;\n",
       "    }\n",
       "\n",
       "    .dataframe thead th {\n",
       "        text-align: right;\n",
       "    }\n",
       "</style>\n",
       "<table border=\"1\" class=\"dataframe\">\n",
       "  <thead>\n",
       "    <tr style=\"text-align: right;\">\n",
       "      <th></th>\n",
       "      <th>0</th>\n",
       "      <th>0</th>\n",
       "    </tr>\n",
       "  </thead>\n",
       "  <tbody>\n",
       "    <tr>\n",
       "      <th>0</th>\n",
       "      <td>6</td>\n",
       "      <td>BCT_CODBUR</td>\n",
       "    </tr>\n",
       "    <tr>\n",
       "      <th>1</th>\n",
       "      <td>6</td>\n",
       "      <td>CTR_MATFIS</td>\n",
       "    </tr>\n",
       "    <tr>\n",
       "      <th>2</th>\n",
       "      <td>7</td>\n",
       "      <td>CTR_CATEGO_X</td>\n",
       "    </tr>\n",
       "    <tr>\n",
       "      <th>3</th>\n",
       "      <td>7</td>\n",
       "      <td>FJU_CODFJU</td>\n",
       "    </tr>\n",
       "    <tr>\n",
       "      <th>4</th>\n",
       "      <td>9</td>\n",
       "      <td>CTR_CESSAT</td>\n",
       "    </tr>\n",
       "    <tr>\n",
       "      <th>...</th>\n",
       "      <td>...</td>\n",
       "      <td>...</td>\n",
       "    </tr>\n",
       "    <tr>\n",
       "      <th>84</th>\n",
       "      <td>4</td>\n",
       "      <td>AX2_HONORA</td>\n",
       "    </tr>\n",
       "    <tr>\n",
       "      <th>85</th>\n",
       "      <td>4</td>\n",
       "      <td>AX2_LOYERS</td>\n",
       "    </tr>\n",
       "    <tr>\n",
       "      <th>86</th>\n",
       "      <td>2</td>\n",
       "      <td>AX3_REVCAP</td>\n",
       "    </tr>\n",
       "    <tr>\n",
       "      <th>87</th>\n",
       "      <td>1</td>\n",
       "      <td>AX5_MNTMAR</td>\n",
       "    </tr>\n",
       "    <tr>\n",
       "      <th>88</th>\n",
       "      <td>6</td>\n",
       "      <td>RES_ANNIMP</td>\n",
       "    </tr>\n",
       "  </tbody>\n",
       "</table>\n",
       "<p>89 rows × 2 columns</p>\n",
       "</div>"
      ],
      "text/plain": [
       "    0             0\n",
       "0   6    BCT_CODBUR\n",
       "1   6    CTR_MATFIS\n",
       "2   7  CTR_CATEGO_X\n",
       "3   7    FJU_CODFJU\n",
       "4   9    CTR_CESSAT\n",
       ".. ..           ...\n",
       "84  4    AX2_HONORA\n",
       "85  4    AX2_LOYERS\n",
       "86  2    AX3_REVCAP\n",
       "87  1    AX5_MNTMAR\n",
       "88  6    RES_ANNIMP\n",
       "\n",
       "[89 rows x 2 columns]"
      ]
     },
     "execution_count": 176,
     "metadata": {},
     "output_type": "execute_result"
    }
   ],
   "source": [
    "df_concat=pd.concat([df_rang_colonne,df_colonnes_data],axis=1)\n",
    "df_concat"
   ]
  },
  {
   "cell_type": "code",
   "execution_count": 177,
   "id": "26597d96",
   "metadata": {},
   "outputs": [],
   "source": [
    "df_concat.columns=['Rang','colonnes']"
   ]
  },
  {
   "cell_type": "code",
   "execution_count": 178,
   "id": "1703944e",
   "metadata": {},
   "outputs": [
    {
     "data": {
      "text/html": [
       "<div>\n",
       "<style scoped>\n",
       "    .dataframe tbody tr th:only-of-type {\n",
       "        vertical-align: middle;\n",
       "    }\n",
       "\n",
       "    .dataframe tbody tr th {\n",
       "        vertical-align: top;\n",
       "    }\n",
       "\n",
       "    .dataframe thead th {\n",
       "        text-align: right;\n",
       "    }\n",
       "</style>\n",
       "<table border=\"1\" class=\"dataframe\">\n",
       "  <thead>\n",
       "    <tr style=\"text-align: right;\">\n",
       "      <th></th>\n",
       "      <th>Rang</th>\n",
       "      <th>colonnes</th>\n",
       "    </tr>\n",
       "  </thead>\n",
       "  <tbody>\n",
       "    <tr>\n",
       "      <th>0</th>\n",
       "      <td>6</td>\n",
       "      <td>BCT_CODBUR</td>\n",
       "    </tr>\n",
       "    <tr>\n",
       "      <th>1</th>\n",
       "      <td>6</td>\n",
       "      <td>CTR_MATFIS</td>\n",
       "    </tr>\n",
       "    <tr>\n",
       "      <th>2</th>\n",
       "      <td>7</td>\n",
       "      <td>CTR_CATEGO_X</td>\n",
       "    </tr>\n",
       "    <tr>\n",
       "      <th>3</th>\n",
       "      <td>7</td>\n",
       "      <td>FJU_CODFJU</td>\n",
       "    </tr>\n",
       "    <tr>\n",
       "      <th>4</th>\n",
       "      <td>9</td>\n",
       "      <td>CTR_CESSAT</td>\n",
       "    </tr>\n",
       "    <tr>\n",
       "      <th>...</th>\n",
       "      <td>...</td>\n",
       "      <td>...</td>\n",
       "    </tr>\n",
       "    <tr>\n",
       "      <th>84</th>\n",
       "      <td>4</td>\n",
       "      <td>AX2_HONORA</td>\n",
       "    </tr>\n",
       "    <tr>\n",
       "      <th>85</th>\n",
       "      <td>4</td>\n",
       "      <td>AX2_LOYERS</td>\n",
       "    </tr>\n",
       "    <tr>\n",
       "      <th>86</th>\n",
       "      <td>2</td>\n",
       "      <td>AX3_REVCAP</td>\n",
       "    </tr>\n",
       "    <tr>\n",
       "      <th>87</th>\n",
       "      <td>1</td>\n",
       "      <td>AX5_MNTMAR</td>\n",
       "    </tr>\n",
       "    <tr>\n",
       "      <th>88</th>\n",
       "      <td>6</td>\n",
       "      <td>RES_ANNIMP</td>\n",
       "    </tr>\n",
       "  </tbody>\n",
       "</table>\n",
       "<p>89 rows × 2 columns</p>\n",
       "</div>"
      ],
      "text/plain": [
       "    Rang      colonnes\n",
       "0      6    BCT_CODBUR\n",
       "1      6    CTR_MATFIS\n",
       "2      7  CTR_CATEGO_X\n",
       "3      7    FJU_CODFJU\n",
       "4      9    CTR_CESSAT\n",
       "..   ...           ...\n",
       "84     4    AX2_HONORA\n",
       "85     4    AX2_LOYERS\n",
       "86     2    AX3_REVCAP\n",
       "87     1    AX5_MNTMAR\n",
       "88     6    RES_ANNIMP\n",
       "\n",
       "[89 rows x 2 columns]"
      ]
     },
     "execution_count": 178,
     "metadata": {},
     "output_type": "execute_result"
    }
   ],
   "source": [
    "df_concat"
   ]
  },
  {
   "cell_type": "code",
   "execution_count": 179,
   "id": "678da456",
   "metadata": {},
   "outputs": [],
   "source": [
    "meilleurs_variables=df_concat.loc[df_concat['Rang']==1]"
   ]
  },
  {
   "cell_type": "code",
   "execution_count": 180,
   "id": "06f25884",
   "metadata": {},
   "outputs": [
    {
     "data": {
      "text/html": [
       "<div>\n",
       "<style scoped>\n",
       "    .dataframe tbody tr th:only-of-type {\n",
       "        vertical-align: middle;\n",
       "    }\n",
       "\n",
       "    .dataframe tbody tr th {\n",
       "        vertical-align: top;\n",
       "    }\n",
       "\n",
       "    .dataframe thead th {\n",
       "        text-align: right;\n",
       "    }\n",
       "</style>\n",
       "<table border=\"1\" class=\"dataframe\">\n",
       "  <thead>\n",
       "    <tr style=\"text-align: right;\">\n",
       "      <th></th>\n",
       "      <th>Rang</th>\n",
       "      <th>colonnes</th>\n",
       "    </tr>\n",
       "  </thead>\n",
       "  <tbody>\n",
       "    <tr>\n",
       "      <th>28</th>\n",
       "      <td>1</td>\n",
       "      <td>TVA_CHAF12</td>\n",
       "    </tr>\n",
       "    <tr>\n",
       "      <th>35</th>\n",
       "      <td>1</td>\n",
       "      <td>TVA_TOTDUE</td>\n",
       "    </tr>\n",
       "    <tr>\n",
       "      <th>41</th>\n",
       "      <td>1</td>\n",
       "      <td>TVA_DEDEQL</td>\n",
       "    </tr>\n",
       "    <tr>\n",
       "      <th>42</th>\n",
       "      <td>1</td>\n",
       "      <td>TVA_BASEQI</td>\n",
       "    </tr>\n",
       "    <tr>\n",
       "      <th>44</th>\n",
       "      <td>1</td>\n",
       "      <td>TVA_BASAUL</td>\n",
       "    </tr>\n",
       "    <tr>\n",
       "      <th>54</th>\n",
       "      <td>1</td>\n",
       "      <td>TVA_MNTPAY</td>\n",
       "    </tr>\n",
       "    <tr>\n",
       "      <th>56</th>\n",
       "      <td>1</td>\n",
       "      <td>TVA_CRDFIN</td>\n",
       "    </tr>\n",
       "    <tr>\n",
       "      <th>70</th>\n",
       "      <td>1</td>\n",
       "      <td>TVA_MCESQ</td>\n",
       "    </tr>\n",
       "    <tr>\n",
       "      <th>76</th>\n",
       "      <td>1</td>\n",
       "      <td>TVA_MTDJRTVA</td>\n",
       "    </tr>\n",
       "    <tr>\n",
       "      <th>87</th>\n",
       "      <td>1</td>\n",
       "      <td>AX5_MNTMAR</td>\n",
       "    </tr>\n",
       "  </tbody>\n",
       "</table>\n",
       "</div>"
      ],
      "text/plain": [
       "    Rang      colonnes\n",
       "28     1    TVA_CHAF12\n",
       "35     1    TVA_TOTDUE\n",
       "41     1    TVA_DEDEQL\n",
       "42     1    TVA_BASEQI\n",
       "44     1    TVA_BASAUL\n",
       "54     1    TVA_MNTPAY\n",
       "56     1    TVA_CRDFIN\n",
       "70     1     TVA_MCESQ\n",
       "76     1  TVA_MTDJRTVA\n",
       "87     1    AX5_MNTMAR"
      ]
     },
     "execution_count": 180,
     "metadata": {},
     "output_type": "execute_result"
    }
   ],
   "source": [
    "meilleurs_variables"
   ]
  },
  {
   "cell_type": "code",
   "execution_count": 188,
   "id": "9f30f385",
   "metadata": {},
   "outputs": [],
   "source": [
    "liste_des_meilleurs_variables=[]\n",
    "for i in meilleurs_variables['colonnes']:\n",
    "   \n",
    "    liste_des_meilleurs_variables.append(i)"
   ]
  },
  {
   "cell_type": "code",
   "execution_count": 189,
   "id": "da547b5c",
   "metadata": {},
   "outputs": [
    {
     "data": {
      "text/plain": [
       "['TVA_CHAF12',\n",
       " 'TVA_TOTDUE',\n",
       " 'TVA_DEDEQL',\n",
       " 'TVA_BASEQI',\n",
       " 'TVA_BASAUL',\n",
       " 'TVA_MNTPAY',\n",
       " 'TVA_CRDFIN',\n",
       " 'TVA_MCESQ',\n",
       " 'TVA_MTDJRTVA',\n",
       " 'AX5_MNTMAR']"
      ]
     },
     "execution_count": 189,
     "metadata": {},
     "output_type": "execute_result"
    }
   ],
   "source": [
    "liste_des_meilleurs_variables"
   ]
  },
  {
   "cell_type": "code",
   "execution_count": 199,
   "id": "cdfe55ed",
   "metadata": {},
   "outputs": [],
   "source": [
    "# L'ensemble des variables  utilisés pour detecter la target\n",
    "x_user=x[['TVA_CHAF12',\n",
    " 'TVA_TOTDUE',\n",
    " 'TVA_DEDEQL',\n",
    " 'TVA_BASEQI',\n",
    " 'TVA_BASAUL',\n",
    " 'TVA_MNTPAY',\n",
    " 'TVA_CRDFIN',\n",
    " 'TVA_MCESQ',\n",
    " 'TVA_MTDJRTVA',\n",
    " 'AX5_MNTMAR']]"
   ]
  },
  {
   "cell_type": "code",
   "execution_count": 200,
   "id": "c85ec8e9",
   "metadata": {},
   "outputs": [
    {
     "data": {
      "text/html": [
       "<div>\n",
       "<style scoped>\n",
       "    .dataframe tbody tr th:only-of-type {\n",
       "        vertical-align: middle;\n",
       "    }\n",
       "\n",
       "    .dataframe tbody tr th {\n",
       "        vertical-align: top;\n",
       "    }\n",
       "\n",
       "    .dataframe thead th {\n",
       "        text-align: right;\n",
       "    }\n",
       "</style>\n",
       "<table border=\"1\" class=\"dataframe\">\n",
       "  <thead>\n",
       "    <tr style=\"text-align: right;\">\n",
       "      <th></th>\n",
       "      <th>TVA_CHAF12</th>\n",
       "      <th>TVA_TOTDUE</th>\n",
       "      <th>TVA_DEDEQL</th>\n",
       "      <th>TVA_BASEQI</th>\n",
       "      <th>TVA_BASAUL</th>\n",
       "      <th>TVA_MNTPAY</th>\n",
       "      <th>TVA_CRDFIN</th>\n",
       "      <th>TVA_MCESQ</th>\n",
       "      <th>TVA_MTDJRTVA</th>\n",
       "      <th>AX5_MNTMAR</th>\n",
       "    </tr>\n",
       "  </thead>\n",
       "  <tbody>\n",
       "    <tr>\n",
       "      <th>0</th>\n",
       "      <td>126423147.0</td>\n",
       "      <td>1.511595e+08</td>\n",
       "      <td>40671108.0</td>\n",
       "      <td>168448614.0</td>\n",
       "      <td>2.376526e+08</td>\n",
       "      <td>35416705.0</td>\n",
       "      <td>0.0</td>\n",
       "      <td>0.0</td>\n",
       "      <td>0.0</td>\n",
       "      <td>6.027693e+08</td>\n",
       "    </tr>\n",
       "    <tr>\n",
       "      <th>1</th>\n",
       "      <td>21916400.0</td>\n",
       "      <td>2.629968e+06</td>\n",
       "      <td>0.0</td>\n",
       "      <td>0.0</td>\n",
       "      <td>2.772366e+06</td>\n",
       "      <td>2130942.0</td>\n",
       "      <td>0.0</td>\n",
       "      <td>0.0</td>\n",
       "      <td>0.0</td>\n",
       "      <td>1.478520e+07</td>\n",
       "    </tr>\n",
       "    <tr>\n",
       "      <th>2</th>\n",
       "      <td>0.0</td>\n",
       "      <td>3.667230e+06</td>\n",
       "      <td>0.0</td>\n",
       "      <td>0.0</td>\n",
       "      <td>1.955256e+07</td>\n",
       "      <td>256128.0</td>\n",
       "      <td>0.0</td>\n",
       "      <td>0.0</td>\n",
       "      <td>0.0</td>\n",
       "      <td>1.079280e+07</td>\n",
       "    </tr>\n",
       "    <tr>\n",
       "      <th>3</th>\n",
       "      <td>0.0</td>\n",
       "      <td>6.460951e+07</td>\n",
       "      <td>0.0</td>\n",
       "      <td>0.0</td>\n",
       "      <td>3.062294e+08</td>\n",
       "      <td>318095.0</td>\n",
       "      <td>17804671.0</td>\n",
       "      <td>0.0</td>\n",
       "      <td>0.0</td>\n",
       "      <td>0.000000e+00</td>\n",
       "    </tr>\n",
       "    <tr>\n",
       "      <th>4</th>\n",
       "      <td>0.0</td>\n",
       "      <td>0.000000e+00</td>\n",
       "      <td>0.0</td>\n",
       "      <td>0.0</td>\n",
       "      <td>0.000000e+00</td>\n",
       "      <td>0.0</td>\n",
       "      <td>0.0</td>\n",
       "      <td>0.0</td>\n",
       "      <td>0.0</td>\n",
       "      <td>0.000000e+00</td>\n",
       "    </tr>\n",
       "    <tr>\n",
       "      <th>...</th>\n",
       "      <td>...</td>\n",
       "      <td>...</td>\n",
       "      <td>...</td>\n",
       "      <td>...</td>\n",
       "      <td>...</td>\n",
       "      <td>...</td>\n",
       "      <td>...</td>\n",
       "      <td>...</td>\n",
       "      <td>...</td>\n",
       "      <td>...</td>\n",
       "    </tr>\n",
       "    <tr>\n",
       "      <th>21290</th>\n",
       "      <td>0.0</td>\n",
       "      <td>4.106264e+08</td>\n",
       "      <td>0.0</td>\n",
       "      <td>0.0</td>\n",
       "      <td>1.793527e+09</td>\n",
       "      <td>5748483.0</td>\n",
       "      <td>1499035.0</td>\n",
       "      <td>0.0</td>\n",
       "      <td>0.0</td>\n",
       "      <td>2.326544e+09</td>\n",
       "    </tr>\n",
       "    <tr>\n",
       "      <th>21291</th>\n",
       "      <td>0.0</td>\n",
       "      <td>1.985416e+08</td>\n",
       "      <td>0.0</td>\n",
       "      <td>0.0</td>\n",
       "      <td>6.292246e+08</td>\n",
       "      <td>46321401.0</td>\n",
       "      <td>13975751.0</td>\n",
       "      <td>0.0</td>\n",
       "      <td>0.0</td>\n",
       "      <td>2.505822e+08</td>\n",
       "    </tr>\n",
       "    <tr>\n",
       "      <th>21292</th>\n",
       "      <td>0.0</td>\n",
       "      <td>1.064191e+09</td>\n",
       "      <td>0.0</td>\n",
       "      <td>0.0</td>\n",
       "      <td>5.921346e+09</td>\n",
       "      <td>55509749.0</td>\n",
       "      <td>0.0</td>\n",
       "      <td>0.0</td>\n",
       "      <td>0.0</td>\n",
       "      <td>6.404927e+09</td>\n",
       "    </tr>\n",
       "    <tr>\n",
       "      <th>21293</th>\n",
       "      <td>0.0</td>\n",
       "      <td>3.852984e+06</td>\n",
       "      <td>0.0</td>\n",
       "      <td>0.0</td>\n",
       "      <td>1.705500e+07</td>\n",
       "      <td>115036.0</td>\n",
       "      <td>38436.0</td>\n",
       "      <td>0.0</td>\n",
       "      <td>0.0</td>\n",
       "      <td>3.318494e+07</td>\n",
       "    </tr>\n",
       "    <tr>\n",
       "      <th>21294</th>\n",
       "      <td>0.0</td>\n",
       "      <td>4.260000e+05</td>\n",
       "      <td>0.0</td>\n",
       "      <td>0.0</td>\n",
       "      <td>0.000000e+00</td>\n",
       "      <td>426000.0</td>\n",
       "      <td>0.0</td>\n",
       "      <td>0.0</td>\n",
       "      <td>0.0</td>\n",
       "      <td>0.000000e+00</td>\n",
       "    </tr>\n",
       "  </tbody>\n",
       "</table>\n",
       "<p>15151 rows × 10 columns</p>\n",
       "</div>"
      ],
      "text/plain": [
       "        TVA_CHAF12    TVA_TOTDUE  TVA_DEDEQL   TVA_BASEQI    TVA_BASAUL  \\\n",
       "0      126423147.0  1.511595e+08  40671108.0  168448614.0  2.376526e+08   \n",
       "1       21916400.0  2.629968e+06         0.0          0.0  2.772366e+06   \n",
       "2              0.0  3.667230e+06         0.0          0.0  1.955256e+07   \n",
       "3              0.0  6.460951e+07         0.0          0.0  3.062294e+08   \n",
       "4              0.0  0.000000e+00         0.0          0.0  0.000000e+00   \n",
       "...            ...           ...         ...          ...           ...   \n",
       "21290          0.0  4.106264e+08         0.0          0.0  1.793527e+09   \n",
       "21291          0.0  1.985416e+08         0.0          0.0  6.292246e+08   \n",
       "21292          0.0  1.064191e+09         0.0          0.0  5.921346e+09   \n",
       "21293          0.0  3.852984e+06         0.0          0.0  1.705500e+07   \n",
       "21294          0.0  4.260000e+05         0.0          0.0  0.000000e+00   \n",
       "\n",
       "       TVA_MNTPAY  TVA_CRDFIN  TVA_MCESQ  TVA_MTDJRTVA    AX5_MNTMAR  \n",
       "0      35416705.0         0.0        0.0           0.0  6.027693e+08  \n",
       "1       2130942.0         0.0        0.0           0.0  1.478520e+07  \n",
       "2        256128.0         0.0        0.0           0.0  1.079280e+07  \n",
       "3        318095.0  17804671.0        0.0           0.0  0.000000e+00  \n",
       "4             0.0         0.0        0.0           0.0  0.000000e+00  \n",
       "...           ...         ...        ...           ...           ...  \n",
       "21290   5748483.0   1499035.0        0.0           0.0  2.326544e+09  \n",
       "21291  46321401.0  13975751.0        0.0           0.0  2.505822e+08  \n",
       "21292  55509749.0         0.0        0.0           0.0  6.404927e+09  \n",
       "21293    115036.0     38436.0        0.0           0.0  3.318494e+07  \n",
       "21294    426000.0         0.0        0.0           0.0  0.000000e+00  \n",
       "\n",
       "[15151 rows x 10 columns]"
      ]
     },
     "execution_count": 200,
     "metadata": {},
     "output_type": "execute_result"
    }
   ],
   "source": [
    "x_user"
   ]
  },
  {
   "cell_type": "code",
   "execution_count": 201,
   "id": "9492a341",
   "metadata": {},
   "outputs": [
    {
     "data": {
      "text/plain": [
       "0        16.639203\n",
       "1        17.827703\n",
       "2        15.473503\n",
       "3         0.000000\n",
       "4        14.286244\n",
       "           ...    \n",
       "21290    16.544842\n",
       "21291    17.651115\n",
       "21292    18.018778\n",
       "21293    15.521108\n",
       "21294    12.460719\n",
       "Name: target, Length: 15151, dtype: float64"
      ]
     },
     "execution_count": 201,
     "metadata": {},
     "output_type": "execute_result"
    }
   ],
   "source": [
    "# target àpredire \n",
    "y"
   ]
  },
  {
   "cell_type": "markdown",
   "id": "611888d2",
   "metadata": {},
   "source": [
    "#### CREONS UN ECANTILLON D'ENTRAINEMENT ET DE VALIDATION"
   ]
  },
  {
   "cell_type": "code",
   "execution_count": 202,
   "id": "3537e80e",
   "metadata": {},
   "outputs": [],
   "source": [
    "# Divisons notre base de données en deux parties\n",
    "x_train,x_test,y_train,y_test=train_test_split(x_user,y,test_size=0.2,random_state=1)"
   ]
  },
  {
   "cell_type": "code",
   "execution_count": 203,
   "id": "b0ea07ed",
   "metadata": {},
   "outputs": [
    {
     "data": {
      "text/html": [
       "<div>\n",
       "<style scoped>\n",
       "    .dataframe tbody tr th:only-of-type {\n",
       "        vertical-align: middle;\n",
       "    }\n",
       "\n",
       "    .dataframe tbody tr th {\n",
       "        vertical-align: top;\n",
       "    }\n",
       "\n",
       "    .dataframe thead th {\n",
       "        text-align: right;\n",
       "    }\n",
       "</style>\n",
       "<table border=\"1\" class=\"dataframe\">\n",
       "  <thead>\n",
       "    <tr style=\"text-align: right;\">\n",
       "      <th></th>\n",
       "      <th>TVA_CHAF12</th>\n",
       "      <th>TVA_TOTDUE</th>\n",
       "      <th>TVA_DEDEQL</th>\n",
       "      <th>TVA_BASEQI</th>\n",
       "      <th>TVA_BASAUL</th>\n",
       "      <th>TVA_MNTPAY</th>\n",
       "      <th>TVA_CRDFIN</th>\n",
       "      <th>TVA_MCESQ</th>\n",
       "      <th>TVA_MTDJRTVA</th>\n",
       "      <th>AX5_MNTMAR</th>\n",
       "    </tr>\n",
       "  </thead>\n",
       "  <tbody>\n",
       "    <tr>\n",
       "      <th>2063</th>\n",
       "      <td>0.0</td>\n",
       "      <td>1.209644e+08</td>\n",
       "      <td>8.973707e+06</td>\n",
       "      <td>0.0</td>\n",
       "      <td>6.736358e+08</td>\n",
       "      <td>6.786393e+07</td>\n",
       "      <td>60026628.0</td>\n",
       "      <td>0.0</td>\n",
       "      <td>0.0</td>\n",
       "      <td>4946169.0</td>\n",
       "    </tr>\n",
       "    <tr>\n",
       "      <th>4118</th>\n",
       "      <td>0.0</td>\n",
       "      <td>0.000000e+00</td>\n",
       "      <td>0.000000e+00</td>\n",
       "      <td>0.0</td>\n",
       "      <td>0.000000e+00</td>\n",
       "      <td>0.000000e+00</td>\n",
       "      <td>0.0</td>\n",
       "      <td>0.0</td>\n",
       "      <td>0.0</td>\n",
       "      <td>257590669.0</td>\n",
       "    </tr>\n",
       "    <tr>\n",
       "      <th>9754</th>\n",
       "      <td>0.0</td>\n",
       "      <td>1.847003e+08</td>\n",
       "      <td>1.584978e+07</td>\n",
       "      <td>0.0</td>\n",
       "      <td>9.523607e+08</td>\n",
       "      <td>3.916043e+06</td>\n",
       "      <td>5876833.0</td>\n",
       "      <td>0.0</td>\n",
       "      <td>0.0</td>\n",
       "      <td>393422513.0</td>\n",
       "    </tr>\n",
       "    <tr>\n",
       "      <th>5642</th>\n",
       "      <td>48986603.0</td>\n",
       "      <td>5.878388e+06</td>\n",
       "      <td>0.000000e+00</td>\n",
       "      <td>0.0</td>\n",
       "      <td>6.449092e+06</td>\n",
       "      <td>4.784773e+06</td>\n",
       "      <td>0.0</td>\n",
       "      <td>0.0</td>\n",
       "      <td>0.0</td>\n",
       "      <td>0.0</td>\n",
       "    </tr>\n",
       "    <tr>\n",
       "      <th>5007</th>\n",
       "      <td>10647549.0</td>\n",
       "      <td>3.109831e+08</td>\n",
       "      <td>0.000000e+00</td>\n",
       "      <td>0.0</td>\n",
       "      <td>7.458777e+08</td>\n",
       "      <td>0.000000e+00</td>\n",
       "      <td>41536191.0</td>\n",
       "      <td>110528936.0</td>\n",
       "      <td>0.0</td>\n",
       "      <td>65547031.0</td>\n",
       "    </tr>\n",
       "    <tr>\n",
       "      <th>...</th>\n",
       "      <td>...</td>\n",
       "      <td>...</td>\n",
       "      <td>...</td>\n",
       "      <td>...</td>\n",
       "      <td>...</td>\n",
       "      <td>...</td>\n",
       "      <td>...</td>\n",
       "      <td>...</td>\n",
       "      <td>...</td>\n",
       "      <td>...</td>\n",
       "    </tr>\n",
       "    <tr>\n",
       "      <th>1284</th>\n",
       "      <td>22935450.0</td>\n",
       "      <td>3.968388e+07</td>\n",
       "      <td>9.851180e+05</td>\n",
       "      <td>0.0</td>\n",
       "      <td>2.236966e+08</td>\n",
       "      <td>0.000000e+00</td>\n",
       "      <td>10288048.0</td>\n",
       "      <td>0.0</td>\n",
       "      <td>0.0</td>\n",
       "      <td>690562665.0</td>\n",
       "    </tr>\n",
       "    <tr>\n",
       "      <th>7348</th>\n",
       "      <td>0.0</td>\n",
       "      <td>3.214705e+07</td>\n",
       "      <td>0.000000e+00</td>\n",
       "      <td>0.0</td>\n",
       "      <td>1.581289e+08</td>\n",
       "      <td>2.826554e+06</td>\n",
       "      <td>12445900.0</td>\n",
       "      <td>0.0</td>\n",
       "      <td>0.0</td>\n",
       "      <td>0.0</td>\n",
       "    </tr>\n",
       "    <tr>\n",
       "      <th>17087</th>\n",
       "      <td>0.0</td>\n",
       "      <td>0.000000e+00</td>\n",
       "      <td>0.000000e+00</td>\n",
       "      <td>0.0</td>\n",
       "      <td>0.000000e+00</td>\n",
       "      <td>0.000000e+00</td>\n",
       "      <td>3038059.0</td>\n",
       "      <td>0.0</td>\n",
       "      <td>0.0</td>\n",
       "      <td>0.0</td>\n",
       "    </tr>\n",
       "    <tr>\n",
       "      <th>335</th>\n",
       "      <td>0.0</td>\n",
       "      <td>2.870106e+10</td>\n",
       "      <td>2.550292e+10</td>\n",
       "      <td>0.0</td>\n",
       "      <td>3.519028e+09</td>\n",
       "      <td>2.693574e+09</td>\n",
       "      <td>344372745.0</td>\n",
       "      <td>0.0</td>\n",
       "      <td>0.0</td>\n",
       "      <td>340772382.0</td>\n",
       "    </tr>\n",
       "    <tr>\n",
       "      <th>18767</th>\n",
       "      <td>0.0</td>\n",
       "      <td>4.320751e+06</td>\n",
       "      <td>4.217492e+07</td>\n",
       "      <td>0.0</td>\n",
       "      <td>6.883690e+05</td>\n",
       "      <td>0.000000e+00</td>\n",
       "      <td>72373413.0</td>\n",
       "      <td>0.0</td>\n",
       "      <td>0.0</td>\n",
       "      <td>0.0</td>\n",
       "    </tr>\n",
       "  </tbody>\n",
       "</table>\n",
       "<p>12120 rows × 10 columns</p>\n",
       "</div>"
      ],
      "text/plain": [
       "       TVA_CHAF12    TVA_TOTDUE    TVA_DEDEQL  TVA_BASEQI    TVA_BASAUL  \\\n",
       "2063          0.0  1.209644e+08  8.973707e+06         0.0  6.736358e+08   \n",
       "4118          0.0  0.000000e+00  0.000000e+00         0.0  0.000000e+00   \n",
       "9754          0.0  1.847003e+08  1.584978e+07         0.0  9.523607e+08   \n",
       "5642   48986603.0  5.878388e+06  0.000000e+00         0.0  6.449092e+06   \n",
       "5007   10647549.0  3.109831e+08  0.000000e+00         0.0  7.458777e+08   \n",
       "...           ...           ...           ...         ...           ...   \n",
       "1284   22935450.0  3.968388e+07  9.851180e+05         0.0  2.236966e+08   \n",
       "7348          0.0  3.214705e+07  0.000000e+00         0.0  1.581289e+08   \n",
       "17087         0.0  0.000000e+00  0.000000e+00         0.0  0.000000e+00   \n",
       "335           0.0  2.870106e+10  2.550292e+10         0.0  3.519028e+09   \n",
       "18767         0.0  4.320751e+06  4.217492e+07         0.0  6.883690e+05   \n",
       "\n",
       "         TVA_MNTPAY   TVA_CRDFIN    TVA_MCESQ  TVA_MTDJRTVA   AX5_MNTMAR  \n",
       "2063   6.786393e+07   60026628.0          0.0           0.0    4946169.0  \n",
       "4118   0.000000e+00          0.0          0.0           0.0  257590669.0  \n",
       "9754   3.916043e+06    5876833.0          0.0           0.0  393422513.0  \n",
       "5642   4.784773e+06          0.0          0.0           0.0          0.0  \n",
       "5007   0.000000e+00   41536191.0  110528936.0           0.0   65547031.0  \n",
       "...             ...          ...          ...           ...          ...  \n",
       "1284   0.000000e+00   10288048.0          0.0           0.0  690562665.0  \n",
       "7348   2.826554e+06   12445900.0          0.0           0.0          0.0  \n",
       "17087  0.000000e+00    3038059.0          0.0           0.0          0.0  \n",
       "335    2.693574e+09  344372745.0          0.0           0.0  340772382.0  \n",
       "18767  0.000000e+00   72373413.0          0.0           0.0          0.0  \n",
       "\n",
       "[12120 rows x 10 columns]"
      ]
     },
     "execution_count": 203,
     "metadata": {},
     "output_type": "execute_result"
    }
   ],
   "source": [
    "x_train"
   ]
  },
  {
   "cell_type": "code",
   "execution_count": 205,
   "id": "4f3373b1",
   "metadata": {},
   "outputs": [
    {
     "data": {
      "text/plain": [
       "9331     19.521011\n",
       "14826     0.000000\n",
       "1510     15.034342\n",
       "15419    16.624120\n",
       "7358     15.252049\n",
       "           ...    \n",
       "1097     15.519405\n",
       "6781     13.276373\n",
       "2809     17.424641\n",
       "14308     0.000000\n",
       "19401    17.281065\n",
       "Name: target, Length: 3031, dtype: float64"
      ]
     },
     "execution_count": 205,
     "metadata": {},
     "output_type": "execute_result"
    }
   ],
   "source": [
    "y_test"
   ]
  },
  {
   "cell_type": "markdown",
   "id": "e21e7aff",
   "metadata": {},
   "source": [
    "#### ENTRAINEMENT ET EVALUATION DES ALGORITMES"
   ]
  },
  {
   "cell_type": "code",
   "execution_count": 259,
   "id": "ab9fd92a",
   "metadata": {},
   "outputs": [],
   "source": [
    "# Definissons la fonction evaluation_model\n",
    "def evaluation_model(model):\n",
    "    \n",
    "    \n",
    "    model.fit(x_train,y_train)\n",
    "    \n",
    "    y_pred=model.predict(x_test)\n",
    "    \n",
    "    print(\"SCORE: \",model.score(x_test,y_test))\n",
    "    \n",
    "    print(\"MAE: \",mean_absolute_error(y_test,y_pred))\n",
    "    print(\"MSE: \",mean_squared_error(y_test,y_pred))\n",
    "    "
   ]
  },
  {
   "cell_type": "code",
   "execution_count": 255,
   "id": "a776b4eb",
   "metadata": {},
   "outputs": [],
   "source": [
    "# Algorithmes utilisés\n",
    "\n",
    "\n",
    "GradientBoostingRegressor=GradientBoostingRegressor()\n",
    "\n",
    "RandomForestRegressor=RandomForestRegressor()\n",
    "AdaBoostRegressor=AdaBoostRegressor()"
   ]
  },
  {
   "cell_type": "code",
   "execution_count": 260,
   "id": "0b6ec24a",
   "metadata": {},
   "outputs": [],
   "source": [
    "# Nous creons un dictionnaire qui regroupe tous les algorithmes utilisés.\n",
    "dict_of_models={\n",
    "\n",
    "    \n",
    "    \n",
    "    'RandomForestRegressor':RandomForestRegressor,\n",
    "    'AdaBoostRegressor':AdaBoostRegressor,\n",
    "    \n",
    "    'GradientBoostingRegressor':GradientBoostingRegressor\n",
    "    \n",
    "   \n",
    "}"
   ]
  },
  {
   "cell_type": "code",
   "execution_count": 261,
   "id": "94062b73",
   "metadata": {},
   "outputs": [
    {
     "name": "stdout",
     "output_type": "stream",
     "text": [
      "RandomForestRegressor\n",
      "SCORE:  0.19628671116244978\n",
      "MAE:  4.662375651184061\n",
      "MSE:  40.86691428310287\n",
      "AdaBoostRegressor\n",
      "SCORE:  0.14971958508171668\n",
      "MAE:  5.640559185203927\n",
      "MSE:  43.23474218439868\n",
      "GradientBoostingRegressor\n",
      "SCORE:  0.23559293217198984\n",
      "MAE:  4.67772406741891\n",
      "MSE:  38.86828618139154\n"
     ]
    }
   ],
   "source": [
    "# Evaluation de chaque algorithme avec la fonction: evaluation_model.\n",
    "for name, model  in dict_of_models.items():\n",
    "    print(name)\n",
    "    evaluation_model(model)"
   ]
  },
  {
   "cell_type": "code",
   "execution_count": null,
   "id": "dbb3b62f",
   "metadata": {},
   "outputs": [],
   "source": []
  },
  {
   "cell_type": "markdown",
   "id": "42918489",
   "metadata": {},
   "source": [
    "#### LE MODELE QUI ESTIME AU MIEUX  LA FRAUDE FISCALE  DANS CES TRAVAUX EST LE : GradientBoostingRegressor\n",
    "###### AVEC : \n",
    "SCORE:  0.23559293217198984  soit 23,55 %\n",
    "\n",
    "MAE:  4.67772406741891\n",
    "\n",
    "MSE:  38.86828618139154\n",
    "\n",
    "### Toutefois nous effectuerons des rechherches en vu d'ameliorer la performance actuelle qui n'est pas satisfesante."
   ]
  },
  {
   "cell_type": "code",
   "execution_count": null,
   "id": "72b0edf4",
   "metadata": {},
   "outputs": [],
   "source": []
  },
  {
   "cell_type": "code",
   "execution_count": null,
   "id": "bfde56f8",
   "metadata": {},
   "outputs": [],
   "source": []
  }
 ],
 "metadata": {
  "kernelspec": {
   "display_name": "Python 3",
   "language": "python",
   "name": "python3"
  },
  "language_info": {
   "codemirror_mode": {
    "name": "ipython",
    "version": 3
   },
   "file_extension": ".py",
   "mimetype": "text/x-python",
   "name": "python",
   "nbconvert_exporter": "python",
   "pygments_lexer": "ipython3",
   "version": "3.8.8"
  }
 },
 "nbformat": 4,
 "nbformat_minor": 5
}
